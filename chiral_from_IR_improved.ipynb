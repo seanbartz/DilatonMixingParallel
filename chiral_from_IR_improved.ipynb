{
 "cells": [
  {
   "cell_type": "code",
   "execution_count": 2,
   "metadata": {},
   "outputs": [],
   "source": [
    "import numpy as np\n",
    "from threeflavorALLvalues import allSigmas\n",
    "from scipy.integrate import odeint\n",
    "from solveTmu import blackness\n",
    "from scipy.interpolate import interp1d\n",
    "from scipy.integrate import solve_ivp\n",
    "from scipy.optimize import brentq, fsolve\n",
    "\n",
    "\n",
    "import matplotlib.pyplot as plt\n"
   ]
  },
  {
   "cell_type": "code",
   "execution_count": 3,
   "metadata": {},
   "outputs": [],
   "source": [
    "\"Matching Fang paper\"\n",
    "v4=4.2\n",
    "v3= -22.6/(6*np.sqrt(2))\n",
    "\n",
    "def chiral(u,y,params):\n",
    "    chi,chip=y\n",
    "    v3,v4,lambda1,mu_g,a0,zh,q=params\n",
    "    \n",
    "    Q=q*zh**3\n",
    "    \n",
    "    \n",
    "    \"Ballon-Bayona version\"\n",
    "    phi = (mu_g*zh*u)**2-a0*(mu_g*zh*u)**3/(1+(mu_g*zh*u)**4)\n",
    "    phip = 2*u*(zh*mu_g)**2+a0*(4*u**6*(zh*mu_g)**7/(1+(u*zh*mu_g)**4)**2-3*u**2*(zh*mu_g)**3/(1+(u*zh*mu_g)**4))\n",
    "\n",
    "    f= 1 - (1+Q**2)*u**4 + Q**2*u**6\n",
    "    fp= -4*(1+Q**2)*u**3 + 6*Q**2*u**5\n",
    "    \"EOM for chiral field\"\n",
    "    derivs=[chip,\n",
    "            (3/u-fp/f+phip)*chip - (3*chi+lambda1*phi*chi-3*v3*chi**2-4*v4*chi**3)/(u**2*f)]\n",
    "            #((3+u**4)/(u-u**5) +phip)*chip - (-3*chi+4*v4*chi**3)/(u**2-u**6) ]\n",
    "            \n",
    "    return derivs\n",
    "\n",
    "def chiral_solve_IR(d0,lambda1,T,mu,ui,uf):\n",
    "    u=np.linspace(ui,uf,1000)\n",
    "    u_backward=np.linspace(uf,ui,1000)\n",
    "\n",
    "\n",
    "    zeta=np.sqrt(3)/(2*np.pi)\n",
    "\n",
    "    mu_g=440\n",
    "    a0=0\n",
    "\n",
    "    lambda3=v3\n",
    "    lambda4=v4\n",
    "\n",
    "\n",
    "    zh,q = blackness(T,mu)\n",
    "    Q=q*zh**3\n",
    "\n",
    "    d1 = (3 * d0 - 3 * d0**2 * lambda3 - 4 * d0**3 * lambda4 + d0 * zh**2 * lambda1 * mu_g**2) / (2 * (-2 + Q**2))\n",
    "\n",
    "\n",
    "    \"IR boundary condition\"\n",
    "    chi0=d0+d1*(1-uf)\n",
    "    chip0=d1\n",
    "    y0=[chi0,chip0]\n",
    "\n",
    "\n",
    "\n",
    "\n",
    "    params=v3,v4,lambda1,mu_g,a0,zh,q\n",
    "    \n",
    "    \"solve the EOM using solve_ivp\"\n",
    "    sol = solve_ivp(chiral, [uf, ui], y0, t_eval=u_backward, args=(params,))\n",
    "\n",
    "    #sol=odeint(chiral,y0,u,args=(params,))\n",
    "    #plot\n",
    "    chi=sol.y[0][::-1]\n",
    "    chip=sol.y[1][::-1]\n",
    " \n",
    "\n",
    "    mq=chip[0]/(zeta*zh)\n",
    "\n",
    "\n",
    "    return mq,chi,chip,u\n",
    "\n",
    "def sigma_finder(u_intermediate,chi,u,mq,T,mu,zeta,lambda3):\n",
    "    zh,q = blackness(T,mu)\n",
    "\n",
    "    \"find sigma\"\n",
    "    chi_interp=interp1d(u,chi)\n",
    "    sigma=(chi_interp(u_intermediate)-mq*zeta*zh*u_intermediate+3*mq**2*zeta**2*lambda3*(zh*u_intermediate)**2)/(u_intermediate*zh)**3*zeta\n",
    "    return sigma\n",
    "\n",
    "def chiral_solve_UV(ml,sigmal,T,mu,ui,uf,lambda1):\n",
    "    u=np.linspace(ui,uf,1000)\n",
    "    zh,q = blackness(T,mu)\n",
    "    zeta=np.sqrt(3)/(2*np.pi)\n",
    "    mu_g=440\n",
    "    a0=0\n",
    "\n",
    "    lambda3=v3\n",
    "    lambda4=v4\n",
    "\n",
    "    params=v3,v4,lambda1,mu_g,a0,zh,q\n",
    "    s2=-3*(ml*zeta)**2*v3\n",
    "    s3=-9*(zeta*ml)**3*v3**2 + 2*(zeta*ml)**3*v4 + ml*zeta*mu_g**2 - 1/2*ml*zeta*lambda1*mu_g**2\n",
    "\n",
    "    \"values for chiral field and derivative at UV boundary\"\n",
    "    UVbound = [ml*zeta*zh*ui + sigmal/zeta*(zh*ui)**3+s2*(zh*ui)**2+s3*(zh*ui)**3*np.log(zh*ui), \n",
    "                ml*zeta*zh + 3*sigmal/zeta*zh**3*ui**2 + 2*s2*zh**2*ui + s3* ui**2*zh**3*(1+3*np.log(zh*ui))]\n",
    "    \"solve the EOM using solve_ivp\"\n",
    "    sol = solve_ivp(chiral, [ui, uf], UVbound, t_eval=u, args=(params,))\n",
    "\n",
    "    chi=sol.y[0]\n",
    "    chip=sol.y[1]\n",
    "    return chi,chip,u\n",
    "from joblib import Parallel, delayed\n",
    "\n",
    "def chiral_solve_IR_parallel(d0_array, lambda1, T, mu, ui, uf, n_jobs=-1):\n",
    "    results = Parallel(n_jobs=n_jobs)(\n",
    "        delayed(chiral_solve_IR)(d0, lambda1, T, mu, ui, uf) for d0 in d0_array\n",
    "    )\n",
    "    # Unpack the results\n",
    "    mq_array, chi_array, chip_array, u_array = zip(*results)\n",
    "    \n",
    "    return np.array(mq_array)"
   ]
  },
  {
   "cell_type": "code",
   "execution_count": 72,
   "metadata": {},
   "outputs": [],
   "source": [
    "def find_d0_hard_way(T,mu,lambda1,ui,uf,mq_target,d0_lower,d0_upper):\n",
    "    \n",
    "    d0_array=np.linspace(d0_lower,d0_upper,100)\n",
    "    mq_array=chiral_solve_IR_parallel(d0_array, lambda1, T, mu, ui, uf, n_jobs=-1)\n",
    "\n",
    "    max_d0=d0_upper\n",
    "    # find the indices where abs(mq_array)>150, and remove those indices from d0_array and mq_array\n",
    "    indices=np.where(np.abs(mq_array)>150)\n",
    "    # we don't need to go higher than the lowest d0 value that gives garbage results\n",
    "    # if indices is not an empty array\n",
    "    if len(indices[0])>0:\n",
    "        max_d0=d0_array[indices[0]]\n",
    "    if len(indices[0])>1:\n",
    "        max_d0=max_d0[0]\n",
    "\n",
    "    d0_array=np.delete(d0_array,indices)\n",
    "    mq_array=np.delete(mq_array,indices)\n",
    "\n",
    "    iterations=0\n",
    "    step_size=d0_array[1]-d0_array[0]\n",
    "    while mq_array[-1]<mq_target and iterations<20:\n",
    "    #while max(mq_array)<mq_target and iterations<12:\n",
    "\n",
    "        #create a new d0_array starting above the maximum value of d0_array, with a spacing that is 1/10 of the spacing of the previous d0_array\n",
    "        step_size=step_size/10\n",
    "        d0_new=np.arange(max(d0_array),min(max(d0_array)+(d0_array[-1]-d0_array[0])/10,max_d0),((d0_array[1]-d0_array[0])/100))\n",
    "        # d0_new=np.arange(max(d0_array),min(max(d0_array)+(d0_array[-1]-d0_array[0])/10,max_d0),step_size)\n",
    "        d0_array=np.concatenate((d0_array,d0_new))\n",
    "        #calculate the mq_array for the new d0_array\n",
    "        mq_new=chiral_solve_IR_parallel(d0_new, lambda1, T, mu, ui, uf, n_jobs=-1)\n",
    "        #add the new mq_array to the old mq_array\n",
    "        mq_array=np.concatenate((mq_array,mq_new))\n",
    "        indices=np.where(np.abs(mq_array)>1000)\n",
    "        # we don't need to go higher than the lowest d0 value that gives garbage results\n",
    "        # if indices is not an empty array\n",
    "        if len(indices[0])>0:\n",
    "            max_d0=d0_array[indices[0]]\n",
    "        if len(indices[0])>1:\n",
    "            max_d0=max_d0[0]    \n",
    "        d0_array=np.delete(d0_array,indices)\n",
    "        mq_array=np.delete(mq_array,indices)\n",
    "        # print(max_d0)\n",
    "        old_max_d0=max_d0\n",
    "        iterations=iterations+1\n",
    "    buffer=1\n",
    "    #find all the indices where mq_array-mq_target changes sign\n",
    "    change_indices=np.where(np.diff(np.sign(mq_array-mq_target)))\n",
    "    if change_indices[0].size>0:\n",
    "        index=change_indices[0][-1]\n",
    "    else:\n",
    "        index=change_indices[-1]\n",
    "\n",
    "    #index=np.argmin(np.abs(mq_array-mq_target))\n",
    "    upper_index=min(index+buffer,len(d0_array)-1)\n",
    "    lower_index=max(index-buffer,0)\n",
    "    d0_lower=d0_array[lower_index]\n",
    "    mq_lower=mq_array[lower_index]\n",
    "    d0_upper=d0_array[upper_index]\n",
    "    mq_upper=mq_array[upper_index]\n",
    "    #if the target value is not in the range, increase the buffer and try again\n",
    "    while mq_target>max(mq_upper,mq_lower) and buffer<len(d0_array):\n",
    "        buffer=buffer+1\n",
    "        lower_index=max(index-buffer,0)\n",
    "        upper_index=min(index+buffer,len(d0_array)-1)\n",
    "        d0_lower=d0_array[lower_index]\n",
    "        mq_lower=mq_array[lower_index]\n",
    "        d0_upper=d0_array[upper_index]\n",
    "        mq_upper=mq_array[upper_index]\n",
    "    while mq_target<min(mq_upper,mq_lower) and buffer<len(d0_array):\n",
    "        buffer=buffer+1\n",
    "        lower_index=max(index-buffer,0)\n",
    "        upper_index=min(index+buffer,len(d0_array)-1)\n",
    "        d0_lower=d0_array[lower_index]\n",
    "        mq_lower=mq_array[lower_index]\n",
    "        d0_upper=d0_array[upper_index]\n",
    "        mq_upper=mq_array[upper_index]\n",
    "    mq_approx=mq_array[index]#(mq_lower+mq_upper)/2\n",
    "    \n",
    "    return d0_lower,d0_upper,mq_approx,mq_lower,mq_upper"
   ]
  },
  {
   "cell_type": "code",
   "execution_count": 100,
   "metadata": {},
   "outputs": [],
   "source": [
    "#run this to get the initial range of mq vs d0\n",
    "#mq target should be 50 MeV or some large number\n",
    "def initial_d0_mq(T,mu,mq_target,lambda1,ui,uf,d0_lower,d0_upper):\n",
    "    \n",
    "    d0_array=np.linspace(d0_lower,d0_upper,1000)\n",
    "    mq_array=chiral_solve_IR_parallel(d0_array, lambda1, T, mu, ui, uf, n_jobs=-1)\n",
    "\n",
    "    max_d0=d0_upper\n",
    "    # find the indices where abs(mq_array)>150, and remove those indices from d0_array and mq_array\n",
    "    indices=np.where(np.abs(mq_array)>150)\n",
    "    # we don't need to go higher than the lowest d0 value that gives garbage results\n",
    "    # if indices is not an empty array\n",
    "    if len(indices[0])>0:\n",
    "        max_d0=d0_array[indices[0]]\n",
    "    if len(indices[0])>1:\n",
    "        max_d0=max_d0[0]\n",
    "\n",
    "    d0_array=np.delete(d0_array,indices)\n",
    "    mq_array=np.delete(mq_array,indices)\n",
    "\n",
    "    iterations=0\n",
    "    step_size=d0_array[1]-d0_array[0]\n",
    "    while mq_array[-1]<mq_target and iterations<20:\n",
    "    #while max(mq_array)<mq_target and iterations<12:\n",
    "\n",
    "        #create a new d0_array starting above the maximum value of d0_array, with a spacing that is 1/10 of the spacing of the previous d0_array\n",
    "        step_size=step_size/10\n",
    "        d0_new=np.arange(max(d0_array),min(max(d0_array)+(d0_array[-1]-d0_array[0])/10,max_d0),step_size)\n",
    "\n",
    "        # d0_new=np.arange(max(d0_array),min(max(d0_array)+(d0_array[-1]-d0_array[0])/10,max_d0),((d0_array[1]-d0_array[0])/100))\n",
    "        # d0_new=np.arange(max(d0_array),min(max(d0_array)+(d0_array[-1]-d0_array[0])/10,max_d0),step_size)\n",
    "        d0_array=np.concatenate((d0_array,d0_new))\n",
    "        #calculate the mq_array for the new d0_array\n",
    "        mq_new=chiral_solve_IR_parallel(d0_new, lambda1, T, mu, ui, uf, n_jobs=-1)\n",
    "        #add the new mq_array to the old mq_array\n",
    "        mq_array=np.concatenate((mq_array,mq_new))\n",
    "        indices=np.where(np.abs(mq_array)>1000)\n",
    "        # we don't need to go higher than the lowest d0 value that gives garbage results\n",
    "        # if indices is not an empty array\n",
    "        if len(indices[0])>0:\n",
    "            max_d0=d0_array[indices[0]]\n",
    "        if len(indices[0])>1:\n",
    "            max_d0=max_d0[0]    \n",
    "        d0_array=np.delete(d0_array,indices)\n",
    "        mq_array=np.delete(mq_array,indices)\n",
    "        # print(max_d0)\n",
    "        old_max_d0=max_d0\n",
    "        iterations=iterations+1\n",
    "    # print('iterations',iterations)\n",
    "    return d0_array,mq_array"
   ]
  },
  {
   "cell_type": "code",
   "execution_count": 275,
   "metadata": {},
   "outputs": [],
   "source": [
    "def d0_zoom(d0_lower,d0_upper,mq_target,T,mu,lambda1,ui,uf,tolerance_goal):\n",
    "    precision=100\n",
    "    iterations=0\n",
    "    while precision>tolerance_goal and iterations<20:\n",
    "        d0_array=np.linspace(d0_lower,d0_upper,100)\n",
    "        mq_array=chiral_solve_IR_parallel(d0_array, lambda1, T, mu, ui, uf, n_jobs=-1)\n",
    "        #find the index where mq_array is closest to mq_target\n",
    "        index=np.argmin(np.abs(mq_array-mq_target))\n",
    "        #find the d0 value at that index\n",
    "        d0_approx=d0_array[index]\n",
    "        #find the mq value at that index\n",
    "        mq_approx=mq_array[index]\n",
    "        if abs(mq_target)>0:\n",
    "            precision = np.abs(mq_approx-mq_target)/mq_target\n",
    "        else:\n",
    "            precision = np.abs(mq_approx-mq_target)\n",
    "        d0_lower=d0_array[max(index-1,0)]\n",
    "        d0_upper=d0_array[min(index+1,len(d0_array)-1)]\n",
    "        iterations=iterations+1\n",
    "        # print('iterations',iterations)\n",
    "    return d0_approx,mq_approx\n"
   ]
  },
  {
   "cell_type": "code",
   "execution_count": 274,
   "metadata": {},
   "outputs": [],
   "source": [
    "lambda1=5.6\n",
    "T=85\n",
    "zeta=np.sqrt(3)/(2*np.pi)\n",
    "mu=0\n",
    "mq=0\n",
    "ui = 1e-4\n",
    "uf = 1-ui\n",
    "d0_lower=0\n",
    "d0_upper=15\n",
    "mq_large=50\n",
    "d0_array,mq_array=initial_d0_mq(T,mu,mq_large,lambda1,ui,uf,d0_lower,d0_upper)\n"
   ]
  },
  {
   "cell_type": "code",
   "execution_count": 282,
   "metadata": {},
   "outputs": [],
   "source": [
    "\n",
    "\n",
    "def all_sigmas_IR(lambda1,mq,T,mu,ui,uf,d0_lower,d0_upper,mq_large):\n",
    "    tolerance_goal=1e-3\n",
    "    zeta=np.sqrt(3)/(2*np.pi)\n",
    "    d0_array,mq_array=initial_d0_mq(T,mu,mq_large,lambda1,ui,uf,d0_lower,d0_upper)\n",
    "    #find the indices where mq_array-mq changes sign\n",
    "    indices=np.where(np.diff(np.sign(mq_array-mq)))[0]\n",
    "    d0_values=np.zeros(len(indices)) \n",
    "    mq_approx=np.zeros(len(indices))\n",
    "    \n",
    "    sigma_IR_list=np.zeros(len(indices))\n",
    "    convergence_test=np.zeros(len(indices))\n",
    "    # loop over the indices where mq_array-mq changes sign\n",
    "    for i in range(len(indices)):\n",
    "        d0_lower=d0_array[max(indices[i]-1,0)]\n",
    "        d0_upper=d0_array[min(indices[i]+1,len(d0_array)-1)]\n",
    "        # print(\"d0 range\",d0_lower,d0_upper)\n",
    "        d0_values[i],mq_approx[i]=d0_zoom(d0_lower,d0_upper,mq,T,mu,lambda1,ui,uf,tolerance_goal)\n",
    "        if np.abs(mq)>0:\n",
    "            if np.abs(mq_approx[i]-mq)/mq>tolerance_goal:\n",
    "                print(\"Warning: tolerance not achieved for T=\", T, \" with quark mass=\", mq_approx[i], \" for the \", i+1 ,\"th value of sigma\")\n",
    "                convergence_test[i]=1\n",
    "        else:\n",
    "            if np.abs(mq_approx[i]-mq)/mq>tolerance_goal:\n",
    "                print(\"Warning: tolerance not achieved for T=\", T, \" with quark mass=\", mq_approx[i], \" for the \", i+1 ,\"th value of sigma\")\n",
    "                convergence_test[i]=1\n",
    "        # print(d0_values[i],mq_approx[i])\n",
    "        #solve for chi and chi prime using chiral_solve_IR\n",
    "        mq_approx[i],chi_IR,chip_IR,u=chiral_solve_IR(d0_values[i],lambda1,T,mu,ui,uf)\n",
    "        #solve for sigma using sigma_finder\n",
    "        u_intermediate=0.15\n",
    "        sigma=sigma_finder(u_intermediate,chi_IR,u,mq,T,mu,zeta,v3)\n",
    "        #store sigma in sigma_IR_list\n",
    "        sigma_IR_list[i]=sigma\n",
    "    \n",
    "\n",
    "    return sigma_IR_list, convergence_test,d0_values, mq_approx"
   ]
  },
  {
   "cell_type": "code",
   "execution_count": 267,
   "metadata": {},
   "outputs": [],
   "source": [
    "#define input parameters\n",
    "lambda1=5.6\n",
    "T=200\n",
    "\n",
    "mu=0\n",
    "#quark mass\n",
    "mq=0\n",
    "ui = 1e-4\n",
    "uf = 1-ui\n",
    "#range for d0 initial scan\n",
    "d0_lower=0\n",
    "d0_upper=15\n",
    "# This should be larger than the target mq value\n",
    "mq_large=50\n",
    "# sigma_IR_list, d0_values, mq_approx=all_sigmas_IR(lambda1,mq,T,mu,ui,uf,d0_lower,d0_upper,mq_large)"
   ]
  },
  {
   "cell_type": "code",
   "execution_count": 283,
   "metadata": {},
   "outputs": [
    {
     "name": "stderr",
     "output_type": "stream",
     "text": [
      "/var/folders/p2/x0t9bzsx00jdh9552ryvxndm0000gp/T/ipykernel_41989/1643550212.py:23: RuntimeWarning: invalid value encountered in double_scalars\n",
      "  if np.abs(mq_approx[i]-mq)/mq>tolerance_goal:\n",
      "/var/folders/p2/x0t9bzsx00jdh9552ryvxndm0000gp/T/ipykernel_41989/1643550212.py:23: RuntimeWarning: divide by zero encountered in double_scalars\n",
      "  if np.abs(mq_approx[i]-mq)/mq>tolerance_goal:\n"
     ]
    },
    {
     "name": "stdout",
     "output_type": "stream",
     "text": [
      "Warning: tolerance not achieved for T= 15  with quark mass= -0.0016217329403563317  for the  2 th value of sigma\n",
      "Warning: tolerance not achieved for T= 15  with quark mass= -0.0016217329403538795  for the  3 th value of sigma\n",
      "Warning: tolerance not achieved for T= 40  with quark mass= -0.003330586543212658  for the  2 th value of sigma\n",
      "Warning: tolerance not achieved for T= 40  with quark mass= 3.724071882557396e-05  for the  3 th value of sigma\n",
      "Warning: tolerance not achieved for T= 45  with quark mass= -0.00010866843508177593  for the  2 th value of sigma\n",
      "Warning: tolerance not achieved for T= 45  with quark mass= -7.493269715846741e-05  for the  3 th value of sigma\n",
      "Warning: tolerance not achieved for T= 50  with quark mass= 2.474511405457907e-05  for the  2 th value of sigma\n",
      "Warning: tolerance not achieved for T= 55  with quark mass= 0.0006128715261683117  for the  2 th value of sigma\n",
      "Warning: tolerance not achieved for T= 60  with quark mass= -0.00036401802637595  for the  2 th value of sigma\n",
      "Warning: tolerance not achieved for T= 65  with quark mass= 9.945122239636057e-06  for the  2 th value of sigma\n",
      "Warning: tolerance not achieved for T= 70  with quark mass= 0.00030542614295434533  for the  2 th value of sigma\n",
      "Warning: tolerance not achieved for T= 75  with quark mass= 0.00013484770811720198  for the  2 th value of sigma\n",
      "Warning: tolerance not achieved for T= 80  with quark mass= -6.210171694499567e-05  for the  2 th value of sigma\n",
      "Warning: tolerance not achieved for T= 85  with quark mass= 0.0006847047162702602  for the  2 th value of sigma\n",
      "Warning: tolerance not achieved for T= 85  with quark mass= -0.00023120263618885234  for the  3 th value of sigma\n",
      "Warning: tolerance not achieved for T= 90  with quark mass= -3.34584887358147e-05  for the  2 th value of sigma\n",
      "Warning: tolerance not achieved for T= 90  with quark mass= 0.00016689959965604065  for the  3 th value of sigma\n",
      "Warning: tolerance not achieved for T= 95  with quark mass= -0.0006001066718118287  for the  2 th value of sigma\n",
      "Warning: tolerance not achieved for T= 95  with quark mass= -0.000903049934782627  for the  3 th value of sigma\n"
     ]
    }
   ],
   "source": [
    "temps=np.arange(15,110,5)\n",
    "sigma_list=[]\n",
    "convergence_list=[]\n",
    "sigmas_array=np.zeros((len(temps),3))\n",
    "for i in range(len(temps)):\n",
    "    sigmas,convergence,d0s,mqs=all_sigmas_IR(lambda1,mq,temps[i],mu,ui,uf,d0_lower,d0_upper,mq_large)\n",
    "    #if sigmas has less than 3 values, append 0's to sigmas until it has 3 values\n",
    "    # if len(sigmas)<3:\n",
    "    #     sigmas=np.append(sigmas,np.zeros(3-len(sigmas)))\n",
    "    # print(sigmas)\n",
    "    # sigmas_array[i,:]=sigmas\n",
    "    #append sigmas to sigma_list\n",
    "    sigma_list.append(sigmas)\n",
    "    convergence_list.append(convergence)\n"
   ]
  },
  {
   "cell_type": "code",
   "execution_count": 284,
   "metadata": {},
   "outputs": [
    {
     "name": "stdout",
     "output_type": "stream",
     "text": [
      "3\n"
     ]
    }
   ],
   "source": [
    "#find the length of the longest element in sigma_list\n",
    "max_length=max(len(l) for l in sigma_list)\n",
    "print(max_length)\n",
    "#append 0's to the end of each element in sigma_list until it has length max_length\n",
    "for i in range(len(sigma_list)):\n",
    "    sigma_list[i]=np.append(sigma_list[i],np.zeros(max_length-len(sigma_list[i])))\n",
    "    # also append 0's to the end of each element in convergence_list\n",
    "    convergence_list[i]=np.append(convergence_list[i],np.zeros(max_length-len(convergence_list[i])))\n",
    "\n",
    "#convert sigma_list to an array\n",
    "sigmas_array=np.array(sigma_list)\n",
    "convergence_array=np.array(convergence_list)\n",
    "# print(sigmas_array.shape)\n"
   ]
  },
  {
   "cell_type": "code",
   "execution_count": 271,
   "metadata": {},
   "outputs": [
    {
     "name": "stdout",
     "output_type": "stream",
     "text": [
      "get_all_sigmas_parallel took 1.438sec\n",
      "Crossover or 2nd order\n",
      "Pseudo-Critical temperature is between 80.0 100.0\n"
     ]
    },
    {
     "name": "stderr",
     "output_type": "stream",
     "text": [
      "/Users/seanbartz/opt/anaconda3/lib/python3.9/site-packages/scipy/integrate/_odepack_py.py:247: ODEintWarning: Excess work done on this call (perhaps wrong Dfun type). Run with full_output = 1 to get quantitative information.\n",
      "  warnings.warn(warning_msg, ODEintWarning)\n",
      "/Users/seanbartz/Documents/GitHub/DilatonMixingParallel/criticalZoom.py:166: RuntimeWarning: overflow encountered in power\n",
      "  test = ((-u**2*fp)/f)*chiFields[:,1]-1/f*(3*chiFields[:,0]+lambda1*phi*chiFields[:,0]-3*v3*chiFields[:,0]**2-4*v4*chiFields[:,0]**3)\n",
      "/Users/seanbartz/opt/anaconda3/lib/python3.9/site-packages/scipy/integrate/_odepack_py.py:247: ODEintWarning: Excess work done on this call (perhaps wrong Dfun type). Run with full_output = 1 to get quantitative information.\n",
      "  warnings.warn(warning_msg, ODEintWarning)\n"
     ]
    }
   ],
   "source": [
    "from criticalZoom import order_checker\n",
    "minsigma=0\n",
    "maxsigma=max(sigmas_array[:,0])**(1/3)+50\n",
    "ml=mq\n",
    "tmin=temps[0]\n",
    "tmax=temps[-1]\n",
    "numtemp=len(temps)\n",
    "a0=0\n",
    "tmin,tmax,minsigma,maxsigma,order,temps1,truesigma,Tc=order_checker(tmin,tmax,numtemp,minsigma,maxsigma,ml,mu,lambda1,a0)"
   ]
  },
  {
   "cell_type": "code",
   "execution_count": 285,
   "metadata": {},
   "outputs": [
    {
     "data": {
      "image/png": "[encoded data removed]",
      "text/plain": [
       "<Figure size 640x480 with 1 Axes>"
      ]
     },
     "metadata": {},
     "output_type": "display_data"
    }
   ],
   "source": [
    "#get the color sequence for matplotlib\n",
    "prop_cycle = plt.rcParams['axes.prop_cycle']\n",
    "colors = prop_cycle.by_key()['color']\n",
    "\n",
    "for i in range(max_length):\n",
    "    #plot only the points where sigmas_array is nonzero\n",
    "\n",
    "    # plot only the points where sigmas_array is nonzero and convergence_array is 0\n",
    "    # this means that a real sigma value was found, and the solution for mq converged\n",
    "    plt.scatter(temps[np.where((sigmas_array[:,i]!=0) & (convergence_array[:,i]==0))],sigmas_array[:,i][np.where((sigmas_array[:,i]!=0) & (convergence_array[:,i]==0))],color=colors[0])\n",
    "    # plot only the points where sigmas_array is nonzero and convergence_array is 1\n",
    "    # this means that a real sigma value was found, but the solution for mq did not converge\n",
    "    plt.scatter(temps[np.where(convergence_array[:,i]==1)],sigmas_array[:,i][np.where(convergence_array[:,i]==1)],color=colors[1])\n",
    "\n",
    "\n",
    "\n",
    "for i in range(len(truesigma[0])):\n",
    "    #plot only the points where  truesigma is nonzero\n",
    "    plt.scatter(temps[np.where(truesigma[:,i]!=0)],(truesigma[:,i][np.where(truesigma[:,i]!=0)])**3,color=colors[2])\n",
    "\n",
    "\n",
    "# plt.legend()\n",
    "plt.xlabel('Temperature (MeV)')\n",
    "plt.ylabel('$\\sigma$ (MeV)$^3$')\n",
    "# title the plot with the value of lambda1, and the quark mass, and the value of mu\n",
    "plt.title('$\\lambda_1$='+str(lambda1)+', $m_q$='+str(mq)+' MeV'+', $\\mu$='+str(mu)+' MeV')\n",
    "plt.show()\n"
   ]
  },
  {
   "cell_type": "code",
   "execution_count": 236,
   "metadata": {},
   "outputs": [
    {
     "name": "stdout",
     "output_type": "stream",
     "text": [
      "Warning: tolerance not achieved for T= 39.89999999999995  with quark mass= 9.948470972442349e-05  for the  1 th value of sigma\n",
      "Warning: tolerance not achieved for T= 39.99999999999994  with quark mass= 9.728305116321547e-05  for the  1 th value of sigma\n",
      "Warning: tolerance not achieved for T= 39.99999999999994  with quark mass= -0.0033305865443644645  for the  2 th value of sigma\n",
      "Warning: tolerance not achieved for T= 40.59999999999991  with quark mass= 0.0005441266178047262  for the  3 th value of sigma\n",
      "Warning: tolerance not achieved for T= 41.04999999999988  with quark mass= 0.012352767332459111  for the  2 th value of sigma\n",
      "Warning: tolerance not achieved for T= 41.04999999999988  with quark mass= 0.016745258751178105  for the  3 th value of sigma\n"
     ]
    }
   ],
   "source": [
    "temps=np.arange(39,42,0.05)\n",
    "sigma_list=[]\n",
    "convergence_list=[]\n",
    "sigmas_array=np.zeros((len(temps),3))\n",
    "for i in range(len(temps)):\n",
    "    sigmas,convergence,d0s,mqs=all_sigmas_IR(lambda1,mq,temps[i],mu,ui,uf,d0_lower,d0_upper,mq_large)\n",
    "    #if sigmas has less than 3 values, append 0's to sigmas until it has 3 values\n",
    "    # if len(sigmas)<3:\n",
    "    #     sigmas=np.append(sigmas,np.zeros(3-len(sigmas)))\n",
    "    # print(sigmas)\n",
    "    # sigmas_array[i,:]=sigmas\n",
    "    #append sigmas to sigma_list\n",
    "    sigma_list.append(sigmas)\n",
    "    convergence_list.append(convergence)"
   ]
  },
  {
   "cell_type": "code",
   "execution_count": 237,
   "metadata": {},
   "outputs": [],
   "source": [
    "#find the length of the longest element in sigma_list\n",
    "max_length=max(len(l) for l in sigma_list)\n",
    "# print(max_length)\n",
    "#append 0's to the end of each element in sigma_list until it has length max_length\n",
    "for i in range(len(sigma_list)):\n",
    "    sigma_list[i]=np.append(sigma_list[i],np.zeros(max_length-len(sigma_list[i])))\n",
    "    # also append 0's to the end of each element in convergence_list\n",
    "    convergence_list[i]=np.append(convergence_list[i],np.zeros(max_length-len(convergence_list[i])))\n",
    "\n",
    "#convert sigma_list to an array\n",
    "sigmas_array=np.array(sigma_list)\n",
    "convergence_array=np.array(convergence_list)\n",
    "# print(sigmas_array.shape)"
   ]
  },
  {
   "cell_type": "code",
   "execution_count": 238,
   "metadata": {},
   "outputs": [
    {
     "data": {
      "image/png": "[encoded data removed]",
      "text/plain": [
       "<Figure size 640x480 with 1 Axes>"
      ]
     },
     "metadata": {},
     "output_type": "display_data"
    }
   ],
   "source": [
    "for i in range(max_length):\n",
    "    #plot only the points where sigmas_array is nonzero\n",
    "\n",
    "    # plot only the points where sigmas_array is nonzero and convergence_array is 0\n",
    "    # this means that a real sigma value was found, and the solution for mq converged\n",
    "    plt.scatter(temps[np.where((sigmas_array[:,i]!=0) & (convergence_array[:,i]==0))],sigmas_array[:,i][np.where((sigmas_array[:,i]!=0) & (convergence_array[:,i]==0))],color=colors[0])\n",
    "    # plot only the points where sigmas_array is nonzero and convergence_array is 1\n",
    "    # this means that a real sigma value was found, but the solution for mq did not converge\n",
    "    plt.scatter(temps[np.where(convergence_array[:,i]==1)],sigmas_array[:,i][np.where(convergence_array[:,i]==1)],color=colors[1])"
   ]
  },
  {
   "cell_type": "code",
   "execution_count": 239,
   "metadata": {},
   "outputs": [],
   "source": [
    "temps2=temps\n",
    "sigmas_array2=sigmas_array"
   ]
  },
  {
   "cell_type": "code",
   "execution_count": 251,
   "metadata": {},
   "outputs": [
    {
     "data": {
      "text/plain": [
       "<matplotlib.collections.PathCollection at 0x2f90c5bb0>"
      ]
     },
     "execution_count": 251,
     "metadata": {},
     "output_type": "execute_result"
    },
    {
     "data": {
      "image/png": "[encoded data removed]",
      "text/plain": [
       "<Figure size 640x480 with 1 Axes>"
      ]
     },
     "metadata": {},
     "output_type": "display_data"
    }
   ],
   "source": [
    "plt.scatter(temps2,sigmas_array2[:,0]**3,color=colors[2])"
   ]
  },
  {
   "cell_type": "code",
   "execution_count": null,
   "metadata": {},
   "outputs": [],
   "source": []
  }
 ],
 "metadata": {
  "kernelspec": {
   "display_name": "base",
   "language": "python",
   "name": "python3"
  },
  "language_info": {
   "codemirror_mode": {
    "name": "ipython",
    "version": 3
   },
   "file_extension": ".py",
   "mimetype": "text/x-python",
   "name": "python",
   "nbconvert_exporter": "python",
   "pygments_lexer": "ipython3",
   "version": "3.9.13"
  },
  "orig_nbformat": 4
 },
 "nbformat": 4,
 "nbformat_minor": 2
}
