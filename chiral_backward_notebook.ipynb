{
 "cells": [
  {
   "cell_type": "code",
   "execution_count": 37,
   "metadata": {},
   "outputs": [],
   "source": [
    "import numpy as np\n",
    "import matplotlib.pyplot as plt\n",
    "#import odeint\n",
    "from scipy.integrate import odeint\n",
    "# import brentq\n",
    "from scipy.optimize import brentq\n",
    "from solveTmu import blackness\n",
    "# import solve_ivp\n",
    "from scipy.integrate import solve_ivp\n",
    "# import interp1d from scipy\n",
    "from scipy.interpolate import interp1d\n",
    "\"Matching Fang paper\"\n",
    "v4=4.2\n",
    "v3= -22.6/(6*np.sqrt(2))\n",
    "\n",
    "\n",
    "def chiral(u,y,params):\n",
    "    chi,chip=y\n",
    "    v3,v4,lambda1,mu_g,a0,zh,q=params\n",
    "    \n",
    "    Q=q*zh**3\n",
    "    \n",
    "    \n",
    "    \"Ballon-Bayona version\"\n",
    "    phi = (mu_g*zh*u)**2-a0*(mu_g*zh*u)**3/(1+(mu_g*zh*u)**4)\n",
    "    phip = 2*u*(zh*mu_g)**2+a0*(4*u**6*(zh*mu_g)**7/(1+(u*zh*mu_g)**4)**2-3*u**2*(zh*mu_g)**3/(1+(u*zh*mu_g)**4))\n",
    "\n",
    "    f= 1 - (1+Q**2)*u**4 + Q**2*u**6\n",
    "    fp= -4*(1+Q**2)*u**3 + 6*Q**2*u**5\n",
    "    \"EOM for chiral field\"\n",
    "    derivs=[chip,\n",
    "            (3/u-fp/f+phip)*chip - (3*chi+lambda1*phi*chi-3*v3*chi**2-4*v4*chi**3)/(u**2*f)]\n",
    "            #((3+u**4)/(u-u**5) +phip)*chip - (-3*chi+4*v4*chi**3)/(u**2-u**6) ]\n",
    "            \n",
    "    return derivs\n",
    "\n",
    "def chiral_solve_IR(d0,lambda1,T,mu,ui,uf):\n",
    "    u=np.linspace(ui,uf,1000)\n",
    "    u_backward=np.linspace(uf,ui,1000)\n",
    "\n",
    "\n",
    "    zeta=np.sqrt(3)/(2*np.pi)\n",
    "\n",
    "    mu_g=440\n",
    "    a0=0\n",
    "\n",
    "    lambda3=v3\n",
    "    lambda4=v4\n",
    "\n",
    "\n",
    "    zh,q = blackness(T,mu)\n",
    "    Q=q*zh**3\n",
    "\n",
    "    d1 = (3 * d0 - 3 * d0**2 * lambda3 - 4 * d0**3 * lambda4 + d0 * zh**2 * lambda1 * mu_g**2) / (2 * (-2 + Q**2))\n",
    "\n",
    "\n",
    "    \"IR boundary condition\"\n",
    "    chi0=d0+d1*(1-uf)\n",
    "    chip0=d1\n",
    "    y0=[chi0,chip0]\n",
    "\n",
    "\n",
    "\n",
    "\n",
    "    params=v3,v4,lambda1,mu_g,a0,zh,q\n",
    "    \n",
    "    \"solve the EOM using solve_ivp\"\n",
    "    sol = solve_ivp(chiral, [uf, ui], y0, t_eval=u_backward, args=(params,))\n",
    "\n",
    "    #sol=odeint(chiral,y0,u,args=(params,))\n",
    "    #plot\n",
    "    chi=sol.y[0][::-1]\n",
    "    chip=sol.y[1][::-1]\n",
    " \n",
    "\n",
    "    mq=chip[0]/(zeta*zh)\n",
    "\n",
    "\n",
    "    return mq,chi,chip,u\n",
    "\n",
    "def sigma_finder(chi,u,mq,T,mu,zeta,lambda3):\n",
    "    zh,q = blackness(T,mu)\n",
    "\n",
    "    \"find sigma\"\n",
    "    u_intermediate=0.15\n",
    "    chi_interp=interp1d(u,chi)\n",
    "    sigma=(chi_interp(u_intermediate)-mq*zeta*zh*u_intermediate+3*mq**2*zeta**2*lambda3*(zh*u_intermediate)**2)/(u_intermediate*zh)**3*zeta\n",
    "    return sigma\n",
    "\n",
    "from joblib import Parallel, delayed\n",
    "\n",
    "def chiral_solve_IR_parallel(d0_array, lambda1, T, mu, ui, uf, n_jobs=-1):\n",
    "    results = Parallel(n_jobs=n_jobs)(\n",
    "        delayed(chiral_solve_IR)(d0, lambda1, T, mu, ui, uf) for d0 in d0_array\n",
    "    )\n",
    "    # Unpack the results\n",
    "    mq_array, chi_array, chip_array, u_array = zip(*results)\n",
    "    \n",
    "    return np.array(mq_array)"
   ]
  },
  {
   "cell_type": "code",
   "execution_count": 3,
   "metadata": {},
   "outputs": [
    {
     "name": "stdout",
     "output_type": "stream",
     "text": [
      "d0 is  0.6961493861617327\n"
     ]
    },
    {
     "ename": "NameError",
     "evalue": "name 'chi' is not defined",
     "output_type": "error",
     "traceback": [
      "\u001b[0;31m---------------------------------------------------------------------------\u001b[0m",
      "\u001b[0;31mNameError\u001b[0m                                 Traceback (most recent call last)",
      "\u001b[1;32m/Users/seanbartz/Documents/GitHub/DilatonMixingParallel/chiral_backward_notebook.ipynb Cell 2\u001b[0m in \u001b[0;36m<cell line: 16>\u001b[0;34m()\u001b[0m\n\u001b[1;32m     <a href='vscode-notebook-cell:/Users/seanbartz/Documents/GitHub/DilatonMixingParallel/chiral_backward_notebook.ipynb#W1sZmlsZQ%3D%3D?line=13'>14</a>\u001b[0m \u001b[39mprint\u001b[39m(\u001b[39m\"\u001b[39m\u001b[39md0 is \u001b[39m\u001b[39m\"\u001b[39m, d0)\n\u001b[1;32m     <a href='vscode-notebook-cell:/Users/seanbartz/Documents/GitHub/DilatonMixingParallel/chiral_backward_notebook.ipynb#W1sZmlsZQ%3D%3D?line=14'>15</a>\u001b[0m \u001b[39m#Find sigma\u001b[39;00m\n\u001b[0;32m---> <a href='vscode-notebook-cell:/Users/seanbartz/Documents/GitHub/DilatonMixingParallel/chiral_backward_notebook.ipynb#W1sZmlsZQ%3D%3D?line=15'>16</a>\u001b[0m sigma\u001b[39m=\u001b[39msigma_finder(chi,u,mq,T,mu,zeta,v3)\n\u001b[1;32m     <a href='vscode-notebook-cell:/Users/seanbartz/Documents/GitHub/DilatonMixingParallel/chiral_backward_notebook.ipynb#W1sZmlsZQ%3D%3D?line=16'>17</a>\u001b[0m \u001b[39mprint\u001b[39m(\u001b[39m\"\u001b[39m\u001b[39msigma is \u001b[39m\u001b[39m\"\u001b[39m, sigma)\n\u001b[1;32m     <a href='vscode-notebook-cell:/Users/seanbartz/Documents/GitHub/DilatonMixingParallel/chiral_backward_notebook.ipynb#W1sZmlsZQ%3D%3D?line=17'>18</a>\u001b[0m \u001b[39mprint\u001b[39m(\u001b[39m\"\u001b[39m\u001b[39msl is \u001b[39m\u001b[39m\"\u001b[39m, (sigma)\u001b[39m*\u001b[39m\u001b[39m*\u001b[39m(\u001b[39m1\u001b[39m\u001b[39m/\u001b[39m\u001b[39m3\u001b[39m ))\n",
      "\u001b[0;31mNameError\u001b[0m: name 'chi' is not defined"
     ]
    }
   ],
   "source": [
    "T=130\n",
    "mu=0\n",
    "lambda1=7\n",
    "ui=1e-4\n",
    "uf=1-ui\n",
    "zeta=np.sqrt(3)/(2*np.pi)\n",
    "#Use brentq to find the value of d0 that gives mq=mq_input\n",
    "mq_input=24\n",
    "def find_d0(d0):\n",
    "    mq,chi,chip,u=chiral_solve_IR(d0,lambda1,T,mu,ui,uf)\n",
    "    return mq-mq_input\n",
    "\n",
    "d0=brentq(find_d0,0,1)\n",
    "print(\"d0 is \", d0)\n",
    "#Find sigma\n",
    "sigma=sigma_finder(chi,u,mq,T,mu,zeta,v3)\n",
    "print(\"sigma is \", sigma)\n",
    "print(\"sl is \", (sigma)**(1/3 ))\n",
    "\n",
    "mq,chi,chip,u=chiral_solve_IR(d0,lambda1,T,mu,ui,uf)\n",
    "print(\"quark mass is \", mq)\n",
    "plt.loglog(u,chi)\n",
    "plt.show()\n",
    "\n",
    "\n",
    "\n"
   ]
  },
  {
   "cell_type": "code",
   "execution_count": 229,
   "metadata": {},
   "outputs": [],
   "source": [
    "# create an array of d0 values and plot the quark mass as a function of d0\n",
    "T=80\n",
    "mu=0\n",
    "lambda1=7\n",
    "d0_array=np.linspace(0,2,1000)\n",
    "mq_array=np.zeros(len(d0_array))\n",
    "for i in range(len(d0_array)):\n",
    "    mq_array[i],chi,chip,u=chiral_solve_IR(d0_array[i],lambda1,T,mu,ui,uf)\n"
   ]
  },
  {
   "cell_type": "code",
   "execution_count": 231,
   "metadata": {},
   "outputs": [
    {
     "data": {
      "image/png": "[encoded data removed]",
      "text/plain": [
       "<Figure size 640x480 with 1 Axes>"
      ]
     },
     "metadata": {},
     "output_type": "display_data"
    }
   ],
   "source": [
    "plt.plot(d0_array,mq_array)\n",
    "# plt.ylim(0,28)\n",
    "# plt.xlim(0,.5)\n",
    "plt.xlabel('d0')\n",
    "plt.ylabel('mq')\n",
    "#plot a horizontal line at mq=24\n",
    "# plt.axhline(y=24.8, color='r', linestyle='-')\n",
    "#title the plot with temperature and mu values\n",
    "plt.title('T='+str(T)+', mu='+str(mu))\n",
    "plt.show()"
   ]
  },
  {
   "cell_type": "code",
   "execution_count": 214,
   "metadata": {},
   "outputs": [
    {
     "name": "stdout",
     "output_type": "stream",
     "text": [
      "d0 is  0.1781781781781782\n",
      "mq is  23.979433396268725\n"
     ]
    }
   ],
   "source": [
    "# find the index where mq is closest to 24\n",
    "index=np.argmin(np.abs(mq_array-24))\n",
    "print(\"d0 is \", d0_array[index])\n",
    "print(\"mq is \", mq_array[index])"
   ]
  },
  {
   "cell_type": "code",
   "execution_count": 228,
   "metadata": {},
   "outputs": [
    {
     "name": "stdout",
     "output_type": "stream",
     "text": [
      "d0 values at sign change are  [0.24224224 0.26826827 0.27427427]\n",
      "mq values at sign change are  [24.79784687 24.88541561 24.79790425]\n"
     ]
    }
   ],
   "source": [
    "#find indices where absolute value of quark mass is greater than 100, and remove them from mq_array and d0_array\n",
    "indices=np.where(np.abs(mq_array)>100)[0]\n",
    "mq_array=np.delete(mq_array,indices)\n",
    "d0_array=np.delete(d0_array,indices)\n",
    "mq_input=24.8\n",
    "# find the indices where mq_array-mq_input changes sign\n",
    "sign_change=np.where(np.diff(np.sign(mq_array-mq_input)))[0]\n",
    "# find the d0 values at the sign change\n",
    "d0_array[sign_change]\n",
    "#print the d0 values at the sign change\n",
    "print(\"d0 values at sign change are \", d0_array[sign_change])\n",
    "# find the mq values at the sign change\n",
    "mq_array[sign_change]\n",
    "#print the mq values at the sign change\n",
    "print(\"mq values at sign change are \", mq_array[sign_change])\n"
   ]
  },
  {
   "cell_type": "code",
   "execution_count": 35,
   "metadata": {},
   "outputs": [
    {
     "data": {
      "text/plain": [
       "-141727511738.66812"
      ]
     },
     "execution_count": 35,
     "metadata": {},
     "output_type": "execute_result"
    }
   ],
   "source": [
    "min(mq_array)"
   ]
  },
  {
   "cell_type": "code",
   "execution_count": 158,
   "metadata": {},
   "outputs": [
    {
     "ename": "NameError",
     "evalue": "name 'd0_lower' is not defined",
     "output_type": "error",
     "traceback": [
      "\u001b[0;31m---------------------------------------------------------------------------\u001b[0m",
      "\u001b[0;31mNameError\u001b[0m                                 Traceback (most recent call last)",
      "\u001b[1;32m/Users/seanbartz/Documents/GitHub/DilatonMixingParallel/chiral_backward_notebook.ipynb Cell 5\u001b[0m in \u001b[0;36m<cell line: 1>\u001b[0;34m()\u001b[0m\n\u001b[0;32m----> <a href='vscode-notebook-cell:/Users/seanbartz/Documents/GitHub/DilatonMixingParallel/chiral_backward_notebook.ipynb#X13sZmlsZQ%3D%3D?line=0'>1</a>\u001b[0m mq_new,chi,chip,u\u001b[39m=\u001b[39mchiral_solve_IR(d0_lower,lambda1,T,mu,ui,uf)\n",
      "\u001b[0;31mNameError\u001b[0m: name 'd0_lower' is not defined"
     ]
    }
   ],
   "source": [
    "mq_new,chi,chip,u=chiral_solve_IR(d0_lower,lambda1,T,mu,ui,uf)\n"
   ]
  },
  {
   "cell_type": "code",
   "execution_count": 40,
   "metadata": {},
   "outputs": [],
   "source": [
    "d0_array=np.linspace(0,10,100000)"
   ]
  },
  {
   "cell_type": "code",
   "execution_count": 41,
   "metadata": {},
   "outputs": [],
   "source": [
    "mq_array=chiral_solve_IR_parallel(d0_array, lambda1, T, mu, ui, uf, n_jobs=-1)"
   ]
  },
  {
   "cell_type": "code",
   "execution_count": 44,
   "metadata": {},
   "outputs": [
    {
     "data": {
      "image/png": "[encoded data removed]",
      "text/plain": [
       "<Figure size 640x480 with 1 Axes>"
      ]
     },
     "metadata": {},
     "output_type": "display_data"
    }
   ],
   "source": [
    "plt.plot(d0_array,np.gradient(mq_array))\n",
    "plt.ylim(-100,150)\n",
    "plt.xlabel('d0')\n",
    "plt.ylabel('mq')\n",
    "plt.show()\n"
   ]
  },
  {
   "cell_type": "code",
   "execution_count": 233,
   "metadata": {},
   "outputs": [
    {
     "data": {
      "image/png": "[encoded data removed]",
      "text/plain": [
       "<Figure size 640x480 with 1 Axes>"
      ]
     },
     "metadata": {},
     "output_type": "display_data"
    }
   ],
   "source": [
    "mq_input=1e-2\n",
    "T=200\n",
    "min_d0=0\n",
    "max_d0=15\n",
    "d0_array=np.linspace(min_d0,max_d0,1000)\n",
    "mq_array=chiral_solve_IR_parallel(d0_array, lambda1, T, mu, ui, uf, n_jobs=-1)\n",
    "\n",
    "# find the indices where abs(mq_array)>150, and remove those indices from d0_array and mq_array\n",
    "indices=np.where(np.abs(mq_array)>150)\n",
    "# we don't need to go higher than the lowest d0 value that gives garbage results\n",
    "# if indices is not an empty array\n",
    "if len(indices[0])>0:\n",
    "    max_d0=d0_array[indices[0]]\n",
    "if len(indices[0])>1:\n",
    "    max_d0=max_d0[0]\n",
    "\n",
    "d0_array=np.delete(d0_array,indices)\n",
    "mq_array=np.delete(mq_array,indices)\n",
    "\n",
    "iterations=0\n",
    "step_size=d0_array[1]-d0_array[0]\n",
    "\n",
    "while max(mq_array)<mq_input and iterations<12:\n",
    "\n",
    "    #create a new d0_array starting above the maximum value of d0_array, with a spacing that is 1/10 of the spacing of the previous d0_array\n",
    "    step_size=step_size/10\n",
    "    d0_new=np.arange(max(d0_array),min(max(d0_array)+(d0_array[-1]-d0_array[0])/10,max_d0),step_size)\n",
    "    d0_array=np.concatenate((d0_array,d0_new))\n",
    "    #calculate the mq_array for the new d0_array\n",
    "    mq_new=chiral_solve_IR_parallel(d0_new, lambda1, T, mu, ui, uf, n_jobs=-1)\n",
    "    #add the new mq_array to the old mq_array\n",
    "    mq_array=np.concatenate((mq_array,mq_new))\n",
    "    indices=np.where(np.abs(mq_array)>1000)\n",
    "    # we don't need to go higher than the lowest d0 value that gives garbage results\n",
    "    # if indices is not an empty array\n",
    "    if len(indices[0])>0:\n",
    "        max_d0=d0_array[indices[0]]\n",
    "    if len(indices[0])>1:\n",
    "        max_d0=max_d0[0]    \n",
    "    d0_array=np.delete(d0_array,indices)\n",
    "    mq_array=np.delete(mq_array,indices)\n",
    "    # print(max_d0)\n",
    "    old_max_d0=max_d0\n",
    "    iterations=iterations+1\n",
    "\n",
    "plt.scatter(d0_array,mq_array)\n",
    "# plt.ylim(-100,150)\n",
    "# find the index where abs(mq_array) is first greater than 1\n",
    "index=np.where(np.abs(mq_array)>1)[0][0]\n",
    "# plt.xlim(d0_array[index-1],d0_array[-1])\n",
    "plt.xlabel('d0')\n",
    "plt.ylabel('mq')\n",
    "plt.show()\n",
    "\n",
    "    "
   ]
  },
  {
   "cell_type": "code",
   "execution_count": 206,
   "metadata": {},
   "outputs": [
    {
     "data": {
      "text/plain": [
       "12"
      ]
     },
     "execution_count": 206,
     "metadata": {},
     "output_type": "execute_result"
    }
   ],
   "source": [
    "iterations"
   ]
  },
  {
   "cell_type": "code",
   "execution_count": 96,
   "metadata": {},
   "outputs": [],
   "source": [
    "T=40\n",
    "d0_array=np.linspace(0,10,100)    \n",
    "mq_array=chiral_solve_IR_parallel(d0_array, lambda1, T, mu, ui, uf, n_jobs=-1)\n",
    "# find the indices where abs(mq_array)>150, and remove those indices from d0_array and mq_array\n",
    "indices=np.where(np.abs(mq_array)>150)\n",
    "d0_array=np.delete(d0_array,indices)\n",
    "mq_array=np.delete(mq_array,indices)\n",
    "#create a new d0_array starting above the maximum value of d0_array, with a spacing that is 1/10 of the spacing of the previous d0_array\n",
    "d0_new=np.arange(max(d0_array),max(d0_array)+(d0_array[-1]-d0_array[0])/10,((d0_array[1]-d0_array[0])/100))\n",
    "d0_array=np.concatenate((d0_array,d0_new))\n",
    "#calculate the mq_array for the new d0_array\n",
    "mq_new=chiral_solve_IR_parallel(d0_new, lambda1, T, mu, ui, uf, n_jobs=-1)\n",
    "#add the new mq_array to the old mq_array\n",
    "mq_array=np.concatenate((mq_array,mq_new))\n",
    "indices=np.where(np.abs(mq_array)>150)\n",
    "d0_array=np.delete(d0_array,indices)\n",
    "mq_array=np.delete(mq_array,indices)\n",
    "\n",
    "\n"
   ]
  },
  {
   "cell_type": "code",
   "execution_count": 97,
   "metadata": {},
   "outputs": [
    {
     "data": {
      "image/png": "[encoded data removed]",
      "text/plain": [
       "<Figure size 640x480 with 1 Axes>"
      ]
     },
     "metadata": {},
     "output_type": "display_data"
    }
   ],
   "source": [
    "plt.scatter(d0_array,mq_array)\n",
    "# plt.ylim(-200,150)\n",
    "plt.xlabel('d0')\n",
    "plt.ylabel('mq')\n",
    "plt.show()"
   ]
  },
  {
   "cell_type": "code",
   "execution_count": 61,
   "metadata": {},
   "outputs": [
    {
     "data": {
      "image/png": "[encoded data removed]",
      "text/plain": [
       "<Figure size 640x480 with 1 Axes>"
      ]
     },
     "metadata": {},
     "output_type": "display_data"
    }
   ],
   "source": [
    "plt.plot(d0_array,np.gradient(d0_array))\n",
    "plt.show()"
   ]
  },
  {
   "cell_type": "code",
   "execution_count": 99,
   "metadata": {},
   "outputs": [
    {
     "data": {
      "text/plain": [
       "11.821156302806466"
      ]
     },
     "execution_count": 99,
     "metadata": {},
     "output_type": "execute_result"
    }
   ],
   "source": [
    "mq_array[-1]"
   ]
  },
  {
   "cell_type": "code",
   "execution_count": null,
   "metadata": {},
   "outputs": [],
   "source": []
  }
 ],
 "metadata": {
  "kernelspec": {
   "display_name": "base",
   "language": "python",
   "name": "python3"
  },
  "language_info": {
   "codemirror_mode": {
    "name": "ipython",
    "version": 3
   },
   "file_extension": ".py",
   "mimetype": "text/x-python",
   "name": "python",
   "nbconvert_exporter": "python",
   "pygments_lexer": "ipython3",
   "version": "3.9.13"
  },
  "orig_nbformat": 4
 },
 "nbformat": 4,
 "nbformat_minor": 2
}
