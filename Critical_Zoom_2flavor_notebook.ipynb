{
 "cells": [
  {
   "cell_type": "code",
   "execution_count": 1,
   "id": "eab6d7e1",
   "metadata": {},
   "outputs": [],
   "source": [
    "import numpy as np\n",
    "import matplotlib.pyplot as plt\n",
    "import pandas as pd\n",
    "from CriticalZoom_2flavor import order_checker"
   ]
  },
  {
   "cell_type": "code",
   "execution_count": 2,
   "id": "2ffe45d0",
   "metadata": {},
   "outputs": [],
   "source": [
    "def critical_zoom(tmin,tmax,numtemp,minsigma,maxsigma,ml,mu,lambda1,a0):\n",
    "    order=2\n",
    "    iterationNumber=0\n",
    "\n",
    "    #create a list to store the sigma values, temperatures, and order of the transition\n",
    "    sigma_list=[]\n",
    "    temps_list=[]\n",
    "\n",
    "\n",
    "    #iteratively run the order_checker function until the transition is first order, or until the bounds are too small\n",
    "    while order==2 and iterationNumber<6 and tmin<tmax and np.abs(maxsigma-minsigma)>2:\n",
    "        tmin,tmax,minsigma,maxsigma,order,temps,truesigma,Tc=order_checker(tmin,tmax,numtemp,minsigma,maxsigma,ml,mu,lambda1,a0)\n",
    "        iterationNumber=iterationNumber+1\n",
    "        print(\"Iteration number \", iterationNumber)\n",
    "        if tmax<tmin:\n",
    "            print(\"TEMPERATURE BOUNDS REVERSED!!!\")\n",
    "        sigma_list.append(truesigma)\n",
    "        temps_list.append(temps)\n",
    "\n",
    "    return order, iterationNumber, sigma_list,temps_list,Tc\n",
    "    \n"
   ]
  },
  {
   "cell_type": "code",
   "execution_count": 14,
   "id": "fcd8c0b6",
   "metadata": {},
   "outputs": [
    {
     "name": "stderr",
     "output_type": "stream",
     "text": [
      "/usr/local/lib64/python3.6/site-packages/scipy/integrate/odepack.py:247: ODEintWarning: Excess work done on this call (perhaps wrong Dfun type). Run with full_output = 1 to get quantitative information.\n",
      "  warnings.warn(warning_msg, ODEintWarning)\n",
      "/usr/local/lib64/python3.6/site-packages/scipy/integrate/odepack.py:247: ODEintWarning: Excess work done on this call (perhaps wrong Dfun type). Run with full_output = 1 to get quantitative information.\n",
      "  warnings.warn(warning_msg, ODEintWarning)\n",
      "/usr/local/lib64/python3.6/site-packages/scipy/integrate/odepack.py:247: ODEintWarning: Excess work done on this call (perhaps wrong Dfun type). Run with full_output = 1 to get quantitative information.\n",
      "  warnings.warn(warning_msg, ODEintWarning)\n",
      "/usr/local/lib64/python3.6/site-packages/scipy/integrate/odepack.py:247: ODEintWarning: Excess work done on this call (perhaps wrong Dfun type). Run with full_output = 1 to get quantitative information.\n",
      "  warnings.warn(warning_msg, ODEintWarning)\n",
      "/usr/local/lib64/python3.6/site-packages/scipy/integrate/odepack.py:247: ODEintWarning: Excess work done on this call (perhaps wrong Dfun type). Run with full_output = 1 to get quantitative information.\n",
      "  warnings.warn(warning_msg, ODEintWarning)\n",
      "/usr/local/lib64/python3.6/site-packages/scipy/integrate/odepack.py:247: ODEintWarning: Excess work done on this call (perhaps wrong Dfun type). Run with full_output = 1 to get quantitative information.\n",
      "  warnings.warn(warning_msg, ODEintWarning)\n",
      "/usr/local/lib64/python3.6/site-packages/scipy/integrate/odepack.py:247: ODEintWarning: Excess work done on this call (perhaps wrong Dfun type). Run with full_output = 1 to get quantitative information.\n",
      "  warnings.warn(warning_msg, ODEintWarning)\n",
      "/usr/local/lib64/python3.6/site-packages/scipy/integrate/odepack.py:247: ODEintWarning: Excess work done on this call (perhaps wrong Dfun type). Run with full_output = 1 to get quantitative information.\n",
      "  warnings.warn(warning_msg, ODEintWarning)\n",
      "/usr/local/lib64/python3.6/site-packages/scipy/integrate/odepack.py:247: ODEintWarning: Excess work done on this call (perhaps wrong Dfun type). Run with full_output = 1 to get quantitative information.\n",
      "  warnings.warn(warning_msg, ODEintWarning)\n",
      "/usr/local/lib64/python3.6/site-packages/scipy/integrate/odepack.py:247: ODEintWarning: Excess work done on this call (perhaps wrong Dfun type). Run with full_output = 1 to get quantitative information.\n",
      "  warnings.warn(warning_msg, ODEintWarning)\n",
      "/usr/local/lib64/python3.6/site-packages/scipy/integrate/odepack.py:247: ODEintWarning: Excess work done on this call (perhaps wrong Dfun type). Run with full_output = 1 to get quantitative information.\n",
      "  warnings.warn(warning_msg, ODEintWarning)\n",
      "/usr/local/lib64/python3.6/site-packages/scipy/integrate/odepack.py:247: ODEintWarning: Excess work done on this call (perhaps wrong Dfun type). Run with full_output = 1 to get quantitative information.\n",
      "  warnings.warn(warning_msg, ODEintWarning)\n",
      "/usr/local/lib64/python3.6/site-packages/scipy/integrate/odepack.py:247: ODEintWarning: Excess work done on this call (perhaps wrong Dfun type). Run with full_output = 1 to get quantitative information.\n",
      "  warnings.warn(warning_msg, ODEintWarning)\n",
      "/usr/local/lib64/python3.6/site-packages/scipy/integrate/odepack.py:247: ODEintWarning: Excess work done on this call (perhaps wrong Dfun type). Run with full_output = 1 to get quantitative information.\n",
      "  warnings.warn(warning_msg, ODEintWarning)\n",
      "/usr/local/lib64/python3.6/site-packages/scipy/integrate/odepack.py:247: ODEintWarning: Excess work done on this call (perhaps wrong Dfun type). Run with full_output = 1 to get quantitative information.\n",
      "  warnings.warn(warning_msg, ODEintWarning)\n",
      "/usr/local/lib64/python3.6/site-packages/scipy/integrate/odepack.py:247: ODEintWarning: Excess work done on this call (perhaps wrong Dfun type). Run with full_output = 1 to get quantitative information.\n",
      "  warnings.warn(warning_msg, ODEintWarning)\n"
     ]
    },
    {
     "name": "stdout",
     "output_type": "stream",
     "text": [
      "get_all_sigmas_parallel took 9.934sec\n",
      "Crossover or 2nd order\n",
      "Pseudo-Critical temperature is between 107.5 115.83333333333334\n",
      "Iteration number  1\n",
      "get_all_sigmas_parallel took 2.864sec\n",
      "Crossover or 2nd order\n",
      "Pseudo-Critical temperature is between 112.36111111111111 113.75\n",
      "Iteration number  2\n",
      "get_all_sigmas_parallel took 1.818sec\n",
      "Crossover or 2nd order\n",
      "Pseudo-Critical temperature is between 113.05555555555556 113.28703703703704\n",
      "Iteration number  3\n",
      "get_all_sigmas_parallel took 657.25ms\n",
      "Crossover or 2nd order\n",
      "Pseudo-Critical temperature is between 113.05555555555556 113.07484567901234\n",
      "Iteration number  4\n",
      "get_all_sigmas_parallel took 150.91ms\n",
      "Crossover or 2nd order\n",
      "Pseudo-Critical temperature is between 113.05796682098766 113.06118184156378\n",
      "Iteration number  5\n"
     ]
    }
   ],
   "source": [
    "tmin=70\n",
    "tmax=120\n",
    "numtemp=25\n",
    "\n",
    "\n",
    "\n",
    "#light quark mass\n",
    "ml=0.1\n",
    "\n",
    "#chemical potential\n",
    "mu=0\n",
    "\n",
    "lambda1= 7 #parameter for mixing between dilaton and chiral field\n",
    "\n",
    "minsigma=0\n",
    "maxsigma=300\n",
    "\n",
    "a0=0. \n",
    "\n",
    "order, iterationNumber, sigma_list,temps_list,Tc=critical_zoom(tmin,tmax,numtemp,minsigma,maxsigma,ml,mu,lambda1,a0)\n",
    "\n",
    "\n"
   ]
  },
  {
   "cell_type": "code",
   "execution_count": 23,
   "id": "d3f99695",
   "metadata": {
    "scrolled": false
   },
   "outputs": [
    {
     "data": {
      "image/png": "[encoded data removed]",
      "text/plain": [
       "<Figure size 432x288 with 1 Axes>"
      ]
     },
     "metadata": {
      "needs_background": "light"
     },
     "output_type": "display_data"
    }
   ],
   "source": [
    "#plot all the sigma values for each iteration\n",
    "#get the standard colors for matplotlib\n",
    "prop_cycle = plt.rcParams['axes.prop_cycle']\n",
    "colors = prop_cycle.by_key()['color']\n",
    "\n",
    "#find the index of when sigma_list[0][:,0] has its first zero value\n",
    "#this is the index of the first temperature where the sigma value is zero\n",
    "\n",
    "max_index=np.argmax(sigma_list[0][:,0]==0)\n",
    "#find the value of the temperature at this index\n",
    "max_temp=temps_list[0][max_index]\n",
    "\n",
    "\n",
    "\n",
    "for i in range(len(sigma_list)):\n",
    "    plt.scatter(temps_list[i],(sigma_list[i][:,0]/1000)**3,color=colors[0])\n",
    "    plt.scatter(temps_list[i],(sigma_list[i][:,1]/1000)**3,color=colors[1])\n",
    "    plt.scatter(temps_list[i],(sigma_list[i][:,2]/1000)**3,color=colors[2])\n",
    "plt.xlabel(\"Temperature (MeV)\")\n",
    "plt.ylabel(\"$\\sigma$ (GeV)$^3$\")\n",
    "#set the x range\n",
    "#plt.xlim(temps_list[0][0],max_temp)\n",
    "plt.ylim([np.amin((1.05*sigma_list[0]/1000))**3,np.amax((1.05*sigma_list[0]/1000))**3])\n",
    "plt.title(r'$m_q=%f$ MeV, $\\mu=%i$ MeV, $\\lambda_1=$ %f' %(ml,mu,lambda1))\n",
    "#plt.savefig(\"plots/sigma_T_mq%i_mu%i_lambda1%f.png\" %(ml,mu,lambda1))\n",
    "plt.show()\n",
    "    "
   ]
  },
  {
   "cell_type": "code",
   "execution_count": 9,
   "id": "c62a1dd0",
   "metadata": {},
   "outputs": [
    {
     "data": {
      "text/plain": [
       "170.0"
      ]
     },
     "execution_count": 9,
     "metadata": {},
     "output_type": "execute_result"
    }
   ],
   "source": [
    "\n",
    "np.amax(np.abs(sigma_list[0][:,0]))"
   ]
  },
  {
   "cell_type": "code",
   "execution_count": 10,
   "id": "2a1d40ef",
   "metadata": {},
   "outputs": [
    {
     "data": {
      "image/png": "[encoded data removed]",
      "text/plain": [
       "<Figure size 432x288 with 1 Axes>"
      ]
     },
     "metadata": {
      "needs_background": "light"
     },
     "output_type": "display_data"
    }
   ],
   "source": [
    "i=-2\n",
    "plt.scatter(temps_list[i],(sigma_list[i][:,0]/1000)**3,color=colors[0])\n",
    "plt.scatter(temps_list[i],(sigma_list[i][:,1]/1000)**3,color=colors[1])\n",
    "plt.scatter(temps_list[i],(sigma_list[i][:,2]/1000)**3,color=colors[2])\n",
    "plt.ylim([0,np.amax((sigma_list[-1][:,0]/1000)**3)])\n",
    "plt.show()"
   ]
  },
  {
   "cell_type": "code",
   "execution_count": 11,
   "id": "56292daf",
   "metadata": {},
   "outputs": [
    {
     "data": {
      "text/plain": [
       "array([[49.,  0.,  0.],\n",
       "       [49.,  0.,  0.],\n",
       "       [49.,  0.,  0.],\n",
       "       [49.,  0.,  0.],\n",
       "       [47., 48., 49.],\n",
       "       [47.,  0.,  0.],\n",
       "       [47.,  0.,  0.],\n",
       "       [47.,  0.,  0.],\n",
       "       [47.,  0.,  0.],\n",
       "       [47.,  0.,  0.],\n",
       "       [46.,  0.,  0.],\n",
       "       [46.,  0.,  0.],\n",
       "       [46.,  0.,  0.],\n",
       "       [46.,  0.,  0.],\n",
       "       [46.,  0.,  0.],\n",
       "       [46.,  0.,  0.],\n",
       "       [45.,  0.,  0.],\n",
       "       [45.,  0.,  0.],\n",
       "       [43., 44., 45.],\n",
       "       [43., 44., 45.],\n",
       "       [43.,  0.,  0.],\n",
       "       [43.,  0.,  0.],\n",
       "       [43.,  0.,  0.],\n",
       "       [43.,  0.,  0.],\n",
       "       [43.,  0.,  0.]])"
      ]
     },
     "execution_count": 11,
     "metadata": {},
     "output_type": "execute_result"
    }
   ],
   "source": [
    "sigma_list[-1]"
   ]
  },
  {
   "cell_type": "code",
   "execution_count": 30,
   "id": "01eeaae7",
   "metadata": {},
   "outputs": [
    {
     "data": {
      "image/png": "[encoded data removed]",
      "text/plain": [
       "<Figure size 432x288 with 1 Axes>"
      ]
     },
     "metadata": {
      "needs_background": "light"
     },
     "output_type": "display_data"
    }
   ],
   "source": [
    "#plot all the sigma values for each iteration\n",
    "#get the standard colors for matplotlib\n",
    "prop_cycle = plt.rcParams['axes.prop_cycle']\n",
    "colors = prop_cycle.by_key()['color']\n",
    "\n",
    "#find the index of when sigma_list[0][:,0] has its first zero value\n",
    "#this is the index of the first temperature where the sigma value is zero\n",
    "\n",
    "max_index=np.argmax(sigma_list[0][:,0]==0)\n",
    "#find the value of the temperature at this index\n",
    "max_temp=temps_list[0][max_index]\n",
    "\n",
    "\n",
    "\n",
    "for i in range(len(sigma_list)):\n",
    "    plt.scatter(temps_list[i],(sigma_list[i][:,0]/1000)**3,color=colors[0])\n",
    "    plt.scatter(temps_list[i],(sigma_list[i][:,1]/1000)**3,color=colors[1])\n",
    "    plt.scatter(temps_list[i],(sigma_list[i][:,2]/1000)**3,color=colors[2])    \n",
    "for i in range(len(sigma_old)):\n",
    "    plt.scatter(temps_old[i],(sigma_old[i][:,0]/1000)**3,color=colors[0])\n",
    "    plt.scatter(temps_old[i],(sigma_old[i][:,1]/1000)**3,color=colors[1])\n",
    "    plt.scatter(temps_old[i],(sigma_old[i][:,2]/1000)**3,color=colors[2])\n",
    "plt.xlabel(\"Temperature (MeV)\")\n",
    "\n",
    "plt.ylabel(\"$\\sigma$ (GeV)$^3$\")\n",
    "#set the x range\n",
    "#plt.xlim(temps_list[0][0],max_temp)\n",
    "plt.ylim([np.amin((1.5*sigma_list[0]/1000))**3,np.amax((1.05*sigma_old[0]/1000))**3])\n",
    "plt.title(r'$m_q=%i$ MeV, $\\mu=%i$ MeV, $\\lambda_1=$ %f' %(ml,mu,lambda1))\n",
    "plt.savefig(\"plots/sigma_T_mq_{}_mu_{:.2f}_lambda_{:.2f}.png\".format(ml, mu, round(lambda1, 2)))\n",
    "plt.show()\n",
    "    "
   ]
  },
  {
   "cell_type": "code",
   "execution_count": 10,
   "id": "4b8ad23e",
   "metadata": {},
   "outputs": [
    {
     "data": {
      "text/plain": [
       "[array([[  0.,   0.,   0.],\n",
       "        [  0.,   0.,   0.],\n",
       "        [  0.,   0.,   0.],\n",
       "        [  0.,   0.,   0.],\n",
       "        [  0.,   0.,   0.],\n",
       "        [  0.,   0.,   0.],\n",
       "        [  0.,   0.,   0.],\n",
       "        [  0.,   0.,   0.],\n",
       "        [  0.,   0.,   0.],\n",
       "        [  0.,   0.,   0.],\n",
       "        [  0.,   0.,   0.],\n",
       "        [190., 191., 192.],\n",
       "        [  0.,   0.,   0.],\n",
       "        [191., 192., 193.],\n",
       "        [192., 193., 194.],\n",
       "        [193., 194., 195.],\n",
       "        [193.,   0.,   0.],\n",
       "        [194.,   0.,   0.],\n",
       "        [195.,   0.,   0.],\n",
       "        [195.,   0.,   0.],\n",
       "        [196.,   0.,   0.],\n",
       "        [197.,   0.,   0.],\n",
       "        [197.,   0.,   0.],\n",
       "        [198.,   0.,   0.],\n",
       "        [198.,   0.,   0.],\n",
       "        [199.,   0.,   0.],\n",
       "        [199.,   0.,   0.],\n",
       "        [200.,   0.,   0.],\n",
       "        [200.,   0.,   0.],\n",
       "        [201.,   0.,   0.],\n",
       "        [201.,   0.,   0.],\n",
       "        [201.,   0.,   0.],\n",
       "        [201.,   0.,   0.],\n",
       "        [201.,   0.,   0.],\n",
       "        [202.,   0.,   0.],\n",
       "        [201.,   0.,   0.],\n",
       "        [ 14.,  30., 201.],\n",
       "        [  6.,   7.,   8.],\n",
       "        [  5.,  70., 200.],\n",
       "        [  4.,  81., 200.],\n",
       "        [  4.,  90., 199.],\n",
       "        [  3., 100., 198.],\n",
       "        [  2., 109., 196.],\n",
       "        [  2., 117., 194.],\n",
       "        [  2., 127., 192.],\n",
       "        [  2., 137., 188.],\n",
       "        [  2., 149., 182.],\n",
       "        [  2.,   0.,   0.],\n",
       "        [  2.,   0.,   0.],\n",
       "        [  2.,   0.,   0.]])]"
      ]
     },
     "execution_count": 10,
     "metadata": {},
     "output_type": "execute_result"
    }
   ],
   "source": [
    "sigma_old"
   ]
  },
  {
   "cell_type": "code",
   "execution_count": 17,
   "id": "7c8a9a09",
   "metadata": {},
   "outputs": [],
   "source": [
    "temps_old=temps_list\n",
    "sigma_old=sigma_list"
   ]
  },
  {
   "cell_type": "code",
   "execution_count": 17,
   "id": "245e3493",
   "metadata": {},
   "outputs": [
    {
     "data": {
      "image/png": "[encoded data removed]",
      "text/plain": [
       "<Figure size 432x288 with 1 Axes>"
      ]
     },
     "metadata": {
      "needs_background": "light"
     },
     "output_type": "display_data"
    }
   ],
   "source": [
    "#load the data frame from the pickle file\n",
    "df2=pd.read_pickle('data/chiral_transition_2flavor_mq%i_mu%i_lambda_%f_order%i.pkl' %(ml,mu,lambda1,order))\n",
    "\n",
    "#plot the data frame\n",
    "df2.plot.scatter(x='temps',y=['sigma1'])\n",
    "plt.xlabel(\"Temperature (MeV)\")\n",
    "plt.ylabel(\"$\\sigma$ (GeV$^3$)\")\n",
    "plt.title(r'$m_q=%i$ MeV, $\\mu=%i$ MeV, $\\lambda_1=$ %f' %(ml,mu,lambda1))\n",
    "plt.show()"
   ]
  },
  {
   "cell_type": "code",
   "execution_count": 15,
   "id": "13ee920f",
   "metadata": {},
   "outputs": [
    {
     "name": "stdout",
     "output_type": "stream",
     "text": [
      "chiral_transition_2flavor_mq0_mu0_lambda_7.000000_order1.pkl\n"
     ]
    }
   ],
   "source": [
    "# Save the data as a pandas dataframe\n",
    "df_all_list = []\n",
    "for i in range(len(sigma_list)):\n",
    "    df=pd.DataFrame()\n",
    "    df['temps']=temps_list[i]\n",
    "    df['sigma1']=(sigma_list[i][:,0]/1000)**3   \n",
    "    df['sigma2']=(sigma_list[i][:,1]/1000)**3\n",
    "    df['sigma3']=(sigma_list[i][:,2]/1000)**3\n",
    "    df['order']=order\n",
    "    df['ml']=ml\n",
    "    df['mu']=mu\n",
    "    df['lambda1']=lambda1\n",
    "    df['a0']=a0\n",
    "    df['Tc']=Tc\n",
    "    df_all_list.append(df)\n",
    "\n",
    "# Use pandas concat here\n",
    "df_all = pd.concat(df_all_list)\n",
    "\n",
    "#pickle the data frame\n",
    "df_all.to_pickle('data/chiral_transition_2flavor_mq%i_mu%i_lambda_%f_order%i.pkl' %(ml,mu,lambda1,order))\n",
    "print('chiral_transition_2flavor_mq%i_mu%i_lambda_%f_order%i.pkl' %(ml,mu,lambda1,order))"
   ]
  },
  {
   "cell_type": "code",
   "execution_count": null,
   "id": "0ebeb212",
   "metadata": {},
   "outputs": [],
   "source": []
  }
 ],
 "metadata": {
  "kernelspec": {
   "display_name": "Python 3",
   "language": "python",
   "name": "python3"
  },
  "language_info": {
   "codemirror_mode": {
    "name": "ipython",
    "version": 3
   },
   "file_extension": ".py",
   "mimetype": "text/x-python",
   "name": "python",
   "nbconvert_exporter": "python",
   "pygments_lexer": "ipython3",
   "version": "3.6.8"
  }
 },
 "nbformat": 4,
 "nbformat_minor": 5
}
