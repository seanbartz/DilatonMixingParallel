{
 "cells": [
  {
   "cell_type": "code",
   "execution_count": 1,
   "id": "eab6d7e1",
   "metadata": {},
   "outputs": [],
   "source": [
    "import numpy as np\n",
    "import matplotlib.pyplot as plt\n",
    "import pandas as pd\n",
    "from criticalZoom import order_checker"
   ]
  },
  {
   "cell_type": "code",
   "execution_count": 2,
   "id": "2ffe45d0",
   "metadata": {},
   "outputs": [],
   "source": [
    "def critical_zoom(tmin,tmax,numtemp,minsigma,maxsigma,ml,mu,lambda1,a0):\n",
    "    order=2\n",
    "    iterationNumber=0\n",
    "\n",
    "    #create a list to store the sigma values, temperatures, and order of the transition\n",
    "    sigma_list=[]\n",
    "    temps_list=[]\n",
    "\n",
    "\n",
    "    #iteratively run the order_checker function until the transition is first order, or until the bounds are too small\n",
    "    while order==2 and iterationNumber<6 and tmin<tmax and np.abs(maxsigma-minsigma)>2:\n",
    "        tmin,tmax,minsigma,maxsigma,order,temps,truesigma,Tc=order_checker(tmin,tmax,numtemp,minsigma,maxsigma,ml,mu,lambda1,a0)\n",
    "        iterationNumber=iterationNumber+1\n",
    "        print(\"Iteration number \", iterationNumber)\n",
    "        if tmax<tmin:\n",
    "            print(\"TEMPERATURE BOUNDS REVERSED!!!\")\n",
    "        sigma_list.append(truesigma)\n",
    "        temps_list.append(temps)\n",
    "\n",
    "    return order, iterationNumber, sigma_list,temps_list,Tc\n",
    "    \n"
   ]
  },
  {
   "cell_type": "code",
   "execution_count": 25,
   "id": "fcd8c0b6",
   "metadata": {},
   "outputs": [
    {
     "name": "stderr",
     "output_type": "stream",
     "text": [
      "/usr/local/lib64/python3.6/site-packages/scipy/integrate/odepack.py:247: ODEintWarning: Excess work done on this call (perhaps wrong Dfun type). Run with full_output = 1 to get quantitative information.\n",
      "  warnings.warn(warning_msg, ODEintWarning)\n",
      "/usr/local/lib64/python3.6/site-packages/scipy/integrate/odepack.py:247: ODEintWarning: Excess work done on this call (perhaps wrong Dfun type). Run with full_output = 1 to get quantitative information.\n",
      "  warnings.warn(warning_msg, ODEintWarning)\n",
      "/usr/local/lib64/python3.6/site-packages/scipy/integrate/odepack.py:247: ODEintWarning: Excess work done on this call (perhaps wrong Dfun type). Run with full_output = 1 to get quantitative information.\n",
      "  warnings.warn(warning_msg, ODEintWarning)\n",
      "/usr/local/lib64/python3.6/site-packages/scipy/integrate/odepack.py:247: ODEintWarning: Excess work done on this call (perhaps wrong Dfun type). Run with full_output = 1 to get quantitative information.\n",
      "  warnings.warn(warning_msg, ODEintWarning)\n",
      "/usr/local/lib64/python3.6/site-packages/scipy/integrate/odepack.py:247: ODEintWarning: Excess work done on this call (perhaps wrong Dfun type). Run with full_output = 1 to get quantitative information.\n",
      "  warnings.warn(warning_msg, ODEintWarning)\n",
      "/usr/local/lib64/python3.6/site-packages/scipy/integrate/odepack.py:247: ODEintWarning: Excess work done on this call (perhaps wrong Dfun type). Run with full_output = 1 to get quantitative information.\n",
      "  warnings.warn(warning_msg, ODEintWarning)\n",
      "/usr/local/lib64/python3.6/site-packages/scipy/integrate/odepack.py:247: ODEintWarning: Excess work done on this call (perhaps wrong Dfun type). Run with full_output = 1 to get quantitative information.\n",
      "  warnings.warn(warning_msg, ODEintWarning)\n",
      "/usr/local/lib64/python3.6/site-packages/scipy/integrate/odepack.py:247: ODEintWarning: Excess work done on this call (perhaps wrong Dfun type). Run with full_output = 1 to get quantitative information.\n",
      "  warnings.warn(warning_msg, ODEintWarning)\n",
      "/usr/local/lib64/python3.6/site-packages/scipy/integrate/odepack.py:247: ODEintWarning: Excess work done on this call (perhaps wrong Dfun type). Run with full_output = 1 to get quantitative information.\n",
      "  warnings.warn(warning_msg, ODEintWarning)\n",
      "/usr/local/lib64/python3.6/site-packages/scipy/integrate/odepack.py:247: ODEintWarning: Excess work done on this call (perhaps wrong Dfun type). Run with full_output = 1 to get quantitative information.\n",
      "  warnings.warn(warning_msg, ODEintWarning)\n",
      "/usr/local/lib64/python3.6/site-packages/scipy/integrate/odepack.py:247: ODEintWarning: Excess work done on this call (perhaps wrong Dfun type). Run with full_output = 1 to get quantitative information.\n",
      "  warnings.warn(warning_msg, ODEintWarning)\n",
      "/usr/local/lib64/python3.6/site-packages/scipy/integrate/odepack.py:247: ODEintWarning: Excess work done on this call (perhaps wrong Dfun type). Run with full_output = 1 to get quantitative information.\n",
      "  warnings.warn(warning_msg, ODEintWarning)\n",
      "/usr/local/lib64/python3.6/site-packages/scipy/integrate/odepack.py:247: ODEintWarning: Excess work done on this call (perhaps wrong Dfun type). Run with full_output = 1 to get quantitative information.\n",
      "  warnings.warn(warning_msg, ODEintWarning)\n",
      "/usr/local/lib64/python3.6/site-packages/scipy/integrate/odepack.py:247: ODEintWarning: Excess work done on this call (perhaps wrong Dfun type). Run with full_output = 1 to get quantitative information.\n",
      "  warnings.warn(warning_msg, ODEintWarning)\n",
      "/usr/local/lib64/python3.6/site-packages/scipy/integrate/odepack.py:247: ODEintWarning: Excess work done on this call (perhaps wrong Dfun type). Run with full_output = 1 to get quantitative information.\n",
      "  warnings.warn(warning_msg, ODEintWarning)\n",
      "/usr/local/lib64/python3.6/site-packages/scipy/integrate/odepack.py:247: ODEintWarning: Excess work done on this call (perhaps wrong Dfun type). Run with full_output = 1 to get quantitative information.\n",
      "  warnings.warn(warning_msg, ODEintWarning)\n"
     ]
    },
    {
     "name": "stdout",
     "output_type": "stream",
     "text": [
      "get_all_sigmas_parallel took 27.193sec\n",
      "Crossover or 2nd order\n",
      "Pseudo-Critical temperature is between 52.244897959183675 57.14285714285714\n",
      "Iteration number  1\n",
      "get_all_sigmas_parallel took 298.36ms\n",
      "First order\n",
      "Critical temperature is  52.244897959183675\n",
      "Iteration number  2\n"
     ]
    }
   ],
   "source": [
    "tmin=40\n",
    "tmax=100\n",
    "numtemp=50\n",
    "\n",
    "\n",
    "\n",
    "#light quark mass\n",
    "ml=0\n",
    "\n",
    "#chemical potential\n",
    "mu=0\n",
    "\n",
    "lambda1= 5.4 #parameter for mixing between dilaton and chiral field\n",
    "\n",
    "minsigma=0\n",
    "maxsigma=-300\n",
    "\n",
    "a0=0. \n",
    "\n",
    "order, iterationNumber, sigma_list,temps_list,Tc=critical_zoom(tmin,tmax,numtemp,minsigma,maxsigma,ml,mu,lambda1,a0)\n",
    "\n",
    "\n"
   ]
  },
  {
   "cell_type": "code",
   "execution_count": 26,
   "id": "d3f99695",
   "metadata": {
    "scrolled": false
   },
   "outputs": [
    {
     "data": {
      "image/png": "[encoded data removed]",
      "text/plain": [
       "<Figure size 432x288 with 1 Axes>"
      ]
     },
     "metadata": {
      "needs_background": "light"
     },
     "output_type": "display_data"
    }
   ],
   "source": [
    "#plot all the sigma values for each iteration\n",
    "#get the standard colors for matplotlib\n",
    "prop_cycle = plt.rcParams['axes.prop_cycle']\n",
    "colors = prop_cycle.by_key()['color']\n",
    "\n",
    "#find the index of when sigma_list[0][:,0] has its first zero value\n",
    "#this is the index of the first temperature where the sigma value is zero\n",
    "\n",
    "max_index=np.argmax(sigma_list[0][:,0]==0)\n",
    "#find the value of the temperature at this index\n",
    "max_temp=temps_list[0][max_index]\n",
    "\n",
    "\n",
    "\n",
    "for i in range(len(sigma_list)):\n",
    "    plt.scatter(temps_list[i],(sigma_list[i][:,0]/1000)**3,color=colors[0])\n",
    "    plt.scatter(temps_list[i],(sigma_list[i][:,1]/1000)**3,color=colors[1])\n",
    "    plt.scatter(temps_list[i],(sigma_list[i][:,2]/1000)**3,color=colors[2])\n",
    "plt.xlabel(\"Temperature (MeV)\")\n",
    "plt.ylabel(\"$\\sigma$ (GeV)$^3$\")\n",
    "#set the x range\n",
    "#plt.xlim(temps_list[0][0],max_temp)\n",
    "plt.ylim([np.amin((1.05*sigma_list[0]/1000))**3,np.amax((1.05*sigma_list[0]/1000))**3])\n",
    "plt.title(r'$m_q=%i$ MeV, $\\mu=%i$ MeV, $\\lambda_1=$ %f' %(ml,mu,lambda1))\n",
    "#plt.savefig(\"plots/sigma_T_mq%i_mu%i_lambda1%f.png\" %(ml,mu,lambda1))\n",
    "plt.show()\n",
    "    "
   ]
  },
  {
   "cell_type": "code",
   "execution_count": 20,
   "id": "c62a1dd0",
   "metadata": {},
   "outputs": [
    {
     "data": {
      "text/plain": [
       "50.0"
      ]
     },
     "execution_count": 20,
     "metadata": {},
     "output_type": "execute_result"
    }
   ],
   "source": [
    "\n",
    "np.amax(np.abs(sigma_list[0][:,0]))"
   ]
  },
  {
   "cell_type": "code",
   "execution_count": 30,
   "id": "01eeaae7",
   "metadata": {},
   "outputs": [
    {
     "data": {
      "image/png": "[encoded data removed]",
      "text/plain": [
       "<Figure size 432x288 with 1 Axes>"
      ]
     },
     "metadata": {
      "needs_background": "light"
     },
     "output_type": "display_data"
    }
   ],
   "source": [
    "#plot all the sigma values for each iteration\n",
    "#get the standard colors for matplotlib\n",
    "prop_cycle = plt.rcParams['axes.prop_cycle']\n",
    "colors = prop_cycle.by_key()['color']\n",
    "\n",
    "#find the index of when sigma_list[0][:,0] has its first zero value\n",
    "#this is the index of the first temperature where the sigma value is zero\n",
    "\n",
    "max_index=np.argmax(sigma_list[0][:,0]==0)\n",
    "#find the value of the temperature at this index\n",
    "max_temp=temps_list[0][max_index]\n",
    "\n",
    "\n",
    "\n",
    "for i in range(len(sigma_list)):\n",
    "    plt.scatter(temps_list[i],(sigma_list[i][:,0]/1000)**3,color=colors[0])\n",
    "    plt.scatter(temps_list[i],(sigma_list[i][:,1]/1000)**3,color=colors[1])\n",
    "    plt.scatter(temps_list[i],(sigma_list[i][:,2]/1000)**3,color=colors[2])    \n",
    "for i in range(len(sigma_old)):\n",
    "    plt.scatter(temps_old[i],(sigma_old[i][:,0]/1000)**3,color=colors[0])\n",
    "    plt.scatter(temps_old[i],(sigma_old[i][:,1]/1000)**3,color=colors[1])\n",
    "    plt.scatter(temps_old[i],(sigma_old[i][:,2]/1000)**3,color=colors[2])\n",
    "plt.xlabel(\"Temperature (MeV)\")\n",
    "\n",
    "plt.ylabel(\"$\\sigma$ (GeV)$^3$\")\n",
    "#set the x range\n",
    "#plt.xlim(temps_list[0][0],max_temp)\n",
    "plt.ylim([np.amin((1.5*sigma_list[0]/1000))**3,np.amax((1.05*sigma_old[0]/1000))**3])\n",
    "plt.title(r'$m_q=%i$ MeV, $\\mu=%i$ MeV, $\\lambda_1=$ %f' %(ml,mu,lambda1))\n",
    "plt.savefig(\"plots/sigma_T_mq_{}_mu_{:.2f}_lambda_{:.2f}.png\".format(ml, mu, round(lambda1, 2)))\n",
    "plt.show()\n",
    "    "
   ]
  },
  {
   "cell_type": "code",
   "execution_count": 10,
   "id": "4b8ad23e",
   "metadata": {},
   "outputs": [
    {
     "data": {
      "text/plain": [
       "[array([[  0.,   0.,   0.],\n",
       "        [  0.,   0.,   0.],\n",
       "        [  0.,   0.,   0.],\n",
       "        [  0.,   0.,   0.],\n",
       "        [  0.,   0.,   0.],\n",
       "        [  0.,   0.,   0.],\n",
       "        [  0.,   0.,   0.],\n",
       "        [  0.,   0.,   0.],\n",
       "        [  0.,   0.,   0.],\n",
       "        [  0.,   0.,   0.],\n",
       "        [  0.,   0.,   0.],\n",
       "        [190., 191., 192.],\n",
       "        [  0.,   0.,   0.],\n",
       "        [191., 192., 193.],\n",
       "        [192., 193., 194.],\n",
       "        [193., 194., 195.],\n",
       "        [193.,   0.,   0.],\n",
       "        [194.,   0.,   0.],\n",
       "        [195.,   0.,   0.],\n",
       "        [195.,   0.,   0.],\n",
       "        [196.,   0.,   0.],\n",
       "        [197.,   0.,   0.],\n",
       "        [197.,   0.,   0.],\n",
       "        [198.,   0.,   0.],\n",
       "        [198.,   0.,   0.],\n",
       "        [199.,   0.,   0.],\n",
       "        [199.,   0.,   0.],\n",
       "        [200.,   0.,   0.],\n",
       "        [200.,   0.,   0.],\n",
       "        [201.,   0.,   0.],\n",
       "        [201.,   0.,   0.],\n",
       "        [201.,   0.,   0.],\n",
       "        [201.,   0.,   0.],\n",
       "        [201.,   0.,   0.],\n",
       "        [202.,   0.,   0.],\n",
       "        [201.,   0.,   0.],\n",
       "        [ 14.,  30., 201.],\n",
       "        [  6.,   7.,   8.],\n",
       "        [  5.,  70., 200.],\n",
       "        [  4.,  81., 200.],\n",
       "        [  4.,  90., 199.],\n",
       "        [  3., 100., 198.],\n",
       "        [  2., 109., 196.],\n",
       "        [  2., 117., 194.],\n",
       "        [  2., 127., 192.],\n",
       "        [  2., 137., 188.],\n",
       "        [  2., 149., 182.],\n",
       "        [  2.,   0.,   0.],\n",
       "        [  2.,   0.,   0.],\n",
       "        [  2.,   0.,   0.]])]"
      ]
     },
     "execution_count": 10,
     "metadata": {},
     "output_type": "execute_result"
    }
   ],
   "source": [
    "sigma_old"
   ]
  },
  {
   "cell_type": "code",
   "execution_count": 17,
   "id": "7c8a9a09",
   "metadata": {},
   "outputs": [],
   "source": [
    "temps_old=temps_list\n",
    "sigma_old=sigma_list"
   ]
  },
  {
   "cell_type": "code",
   "execution_count": 181,
   "id": "245e3493",
   "metadata": {},
   "outputs": [
    {
     "ename": "FileNotFoundError",
     "evalue": "[Errno 2] No such file or directory: 'chiral_transition_mq3_mu140_lambda15.000000_order2.pkl'",
     "output_type": "error",
     "traceback": [
      "\u001b[0;31m---------------------------------------------------------------------------\u001b[0m",
      "\u001b[0;31mFileNotFoundError\u001b[0m                         Traceback (most recent call last)",
      "\u001b[0;32m<ipython-input-181-32ce26dac43c>\u001b[0m in \u001b[0;36m<module>\u001b[0;34m\u001b[0m\n\u001b[1;32m      1\u001b[0m \u001b[0;31m#load the data frame from the pickle file\u001b[0m\u001b[0;34m\u001b[0m\u001b[0;34m\u001b[0m\u001b[0;34m\u001b[0m\u001b[0m\n\u001b[0;32m----> 2\u001b[0;31m \u001b[0mdf2\u001b[0m\u001b[0;34m=\u001b[0m\u001b[0mpd\u001b[0m\u001b[0;34m.\u001b[0m\u001b[0mread_pickle\u001b[0m\u001b[0;34m(\u001b[0m\u001b[0;34m'chiral_transition_mq%i_mu%i_lambda1%f_order%i.pkl'\u001b[0m \u001b[0;34m%\u001b[0m\u001b[0;34m(\u001b[0m\u001b[0mml\u001b[0m\u001b[0;34m,\u001b[0m\u001b[0mmu\u001b[0m\u001b[0;34m,\u001b[0m\u001b[0mlambda1\u001b[0m\u001b[0;34m,\u001b[0m\u001b[0morder\u001b[0m\u001b[0;34m)\u001b[0m\u001b[0;34m)\u001b[0m\u001b[0;34m\u001b[0m\u001b[0;34m\u001b[0m\u001b[0m\n\u001b[0m\u001b[1;32m      3\u001b[0m \u001b[0;34m\u001b[0m\u001b[0m\n\u001b[1;32m      4\u001b[0m \u001b[0;31m#plot the data frame\u001b[0m\u001b[0;34m\u001b[0m\u001b[0;34m\u001b[0m\u001b[0;34m\u001b[0m\u001b[0m\n\u001b[1;32m      5\u001b[0m \u001b[0mdf2\u001b[0m\u001b[0;34m.\u001b[0m\u001b[0mplot\u001b[0m\u001b[0;34m.\u001b[0m\u001b[0mscatter\u001b[0m\u001b[0;34m(\u001b[0m\u001b[0mx\u001b[0m\u001b[0;34m=\u001b[0m\u001b[0;34m'temps'\u001b[0m\u001b[0;34m,\u001b[0m\u001b[0my\u001b[0m\u001b[0;34m=\u001b[0m\u001b[0;34m[\u001b[0m\u001b[0;34m'sigma1'\u001b[0m\u001b[0;34m]\u001b[0m\u001b[0;34m)\u001b[0m\u001b[0;34m\u001b[0m\u001b[0;34m\u001b[0m\u001b[0m\n",
      "\u001b[0;32m~/.local/lib/python3.6/site-packages/pandas/io/pickle.py\u001b[0m in \u001b[0;36mread_pickle\u001b[0;34m(filepath_or_buffer, compression)\u001b[0m\n\u001b[1;32m    167\u001b[0m     \u001b[0;32mif\u001b[0m \u001b[0;32mnot\u001b[0m \u001b[0misinstance\u001b[0m\u001b[0;34m(\u001b[0m\u001b[0mfp_or_buf\u001b[0m\u001b[0;34m,\u001b[0m \u001b[0mstr\u001b[0m\u001b[0;34m)\u001b[0m \u001b[0;32mand\u001b[0m \u001b[0mcompression\u001b[0m \u001b[0;34m==\u001b[0m \u001b[0;34m\"infer\"\u001b[0m\u001b[0;34m:\u001b[0m\u001b[0;34m\u001b[0m\u001b[0;34m\u001b[0m\u001b[0m\n\u001b[1;32m    168\u001b[0m         \u001b[0mcompression\u001b[0m \u001b[0;34m=\u001b[0m \u001b[0;32mNone\u001b[0m\u001b[0;34m\u001b[0m\u001b[0;34m\u001b[0m\u001b[0m\n\u001b[0;32m--> 169\u001b[0;31m     \u001b[0mf\u001b[0m\u001b[0;34m,\u001b[0m \u001b[0mfh\u001b[0m \u001b[0;34m=\u001b[0m \u001b[0mget_handle\u001b[0m\u001b[0;34m(\u001b[0m\u001b[0mfp_or_buf\u001b[0m\u001b[0;34m,\u001b[0m \u001b[0;34m\"rb\"\u001b[0m\u001b[0;34m,\u001b[0m \u001b[0mcompression\u001b[0m\u001b[0;34m=\u001b[0m\u001b[0mcompression\u001b[0m\u001b[0;34m,\u001b[0m \u001b[0mis_text\u001b[0m\u001b[0;34m=\u001b[0m\u001b[0;32mFalse\u001b[0m\u001b[0;34m)\u001b[0m\u001b[0;34m\u001b[0m\u001b[0;34m\u001b[0m\u001b[0m\n\u001b[0m\u001b[1;32m    170\u001b[0m \u001b[0;34m\u001b[0m\u001b[0m\n\u001b[1;32m    171\u001b[0m     \u001b[0;31m# 1) try standard library Pickle\u001b[0m\u001b[0;34m\u001b[0m\u001b[0;34m\u001b[0m\u001b[0;34m\u001b[0m\u001b[0m\n",
      "\u001b[0;32m~/.local/lib/python3.6/site-packages/pandas/io/common.py\u001b[0m in \u001b[0;36mget_handle\u001b[0;34m(path_or_buf, mode, encoding, compression, memory_map, is_text, errors)\u001b[0m\n\u001b[1;32m    497\u001b[0m         \u001b[0;32melse\u001b[0m\u001b[0;34m:\u001b[0m\u001b[0;34m\u001b[0m\u001b[0;34m\u001b[0m\u001b[0m\n\u001b[1;32m    498\u001b[0m             \u001b[0;31m# Binary mode\u001b[0m\u001b[0;34m\u001b[0m\u001b[0;34m\u001b[0m\u001b[0;34m\u001b[0m\u001b[0m\n\u001b[0;32m--> 499\u001b[0;31m             \u001b[0mf\u001b[0m \u001b[0;34m=\u001b[0m \u001b[0mopen\u001b[0m\u001b[0;34m(\u001b[0m\u001b[0mpath_or_buf\u001b[0m\u001b[0;34m,\u001b[0m \u001b[0mmode\u001b[0m\u001b[0;34m)\u001b[0m\u001b[0;34m\u001b[0m\u001b[0;34m\u001b[0m\u001b[0m\n\u001b[0m\u001b[1;32m    500\u001b[0m         \u001b[0mhandles\u001b[0m\u001b[0;34m.\u001b[0m\u001b[0mappend\u001b[0m\u001b[0;34m(\u001b[0m\u001b[0mf\u001b[0m\u001b[0;34m)\u001b[0m\u001b[0;34m\u001b[0m\u001b[0;34m\u001b[0m\u001b[0m\n\u001b[1;32m    501\u001b[0m \u001b[0;34m\u001b[0m\u001b[0m\n",
      "\u001b[0;31mFileNotFoundError\u001b[0m: [Errno 2] No such file or directory: 'chiral_transition_mq3_mu140_lambda15.000000_order2.pkl'"
     ]
    }
   ],
   "source": [
    "#load the data frame from the pickle file\n",
    "df2=pd.read_pickle('chiral_transition_mq%i_mu%i_lambda1%f_order%i.pkl' %(ml,mu,lambda1,order))\n",
    "\n",
    "#plot the data frame\n",
    "df2.plot.scatter(x='temps',y=['sigma1'])\n",
    "plt.xlabel(\"Temperature (MeV)\")\n",
    "plt.ylabel(\"$\\sigma$ (GeV$^3$)\")\n",
    "plt.title(r'$m_q=%i$ MeV, $\\mu=%i$ MeV, $\\lambda_1=$ %f' %(ml,mu,lambda1))\n",
    "plt.show()"
   ]
  },
  {
   "cell_type": "code",
   "execution_count": 111,
   "id": "13ee920f",
   "metadata": {},
   "outputs": [],
   "source": [
    "# Save the data as a pandas dataframe\n",
    "df_all_list = []\n",
    "for i in range(len(sigma_list)):\n",
    "    df=pd.DataFrame()\n",
    "    df['temps']=temps_list[i]\n",
    "    df['sigma1']=(sigma_list[i][:,0]/1000)**3   \n",
    "    df['sigma2']=(sigma_list[i][:,1]/1000)**3\n",
    "    df['sigma3']=(sigma_list[i][:,2]/1000)**3\n",
    "    df['order']=order\n",
    "    df['ml']=ml\n",
    "    df['mu']=mu\n",
    "    df['lambda1']=lambda1\n",
    "    df['a0']=a0\n",
    "    df['Tc']=Tc\n",
    "    df_all_list.append(df)\n",
    "\n",
    "# Use pandas concat here\n",
    "df_all = pd.concat(df_all_list)\n",
    "\n",
    "#pickle the data frame\n",
    "df_all.to_pickle('data/chiral_transition_mq%i_mu%i_lambda1%f_order%i.pkl' %(ml,mu,lambda1,order))\n"
   ]
  },
  {
   "cell_type": "code",
   "execution_count": null,
   "id": "0ebeb212",
   "metadata": {},
   "outputs": [],
   "source": []
  }
 ],
 "metadata": {
  "kernelspec": {
   "display_name": "Python 3",
   "language": "python",
   "name": "python3"
  },
  "language_info": {
   "codemirror_mode": {
    "name": "ipython",
    "version": 3
   },
   "file_extension": ".py",
   "mimetype": "text/x-python",
   "name": "python",
   "nbconvert_exporter": "python",
   "pygments_lexer": "ipython3",
   "version": "3.6.8"
  }
 },
 "nbformat": 4,
 "nbformat_minor": 5
}
