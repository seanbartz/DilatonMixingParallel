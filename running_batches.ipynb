{
 "cells": [
  {
   "cell_type": "markdown",
   "id": "0a64d193",
   "metadata": {},
   "source": [
    "### Set up python environment\n",
    "This block defines an environment `my_env`, which makes sure we have all python packages we need. Run once each session."
   ]
  },
  {
   "cell_type": "code",
   "execution_count": 2,
   "id": "c435d8c7",
   "metadata": {},
   "outputs": [],
   "source": [
    "import subprocess\n",
    "import sys\n",
    "\n",
    "# Create the environment\n",
    "env_name = \"my_env\"\n",
    "subprocess.run([sys.executable, \"-m\", \"venv\", env_name])\n",
    "\n",
    "# Install packages in the environment\n",
    "packages = [\"numpy\", \"pandas\", \"matplotlib\", \"timebudget\", \"scipy\"]\n",
    "for package in packages:\n",
    "    subprocess.run([f\"./{env_name}/bin/pip\", \"install\", package])\n"
   ]
  },
  {
   "cell_type": "markdown",
   "id": "35976895",
   "metadata": {},
   "source": [
    "# Create script to run code\n",
    "Edit your parameters here. The value of lambda1 and ml will go into the file name for the script."
   ]
  },
  {
   "cell_type": "code",
   "execution_count": 109,
   "id": "08aee67c",
   "metadata": {},
   "outputs": [],
   "source": [
    "# Define parameters\n",
    "lambda1= 2.5\n",
    "a0=0\n",
    "ml=3\n",
    "tmin=0\n",
    "tmax=20\n",
    "numtemp=25\n",
    "minsigma=0\n",
    "maxsigma=100\n",
    "mu_initial=310\n",
    "delta_mu=32\n",
    "mu_precision=2\n",
    "\n",
    "#If the value of lambda is already in the csv file, remove it so we can replace it\n",
    "\n",
    "# read in data/critical_points.csv as a pandas dataframe\n",
    "df = pd.read_csv(\"data/critical_points.csv\")\n",
    "#if the ml and lambda1 values are already in the dataframe, remove that row\n",
    "df = df[(df['lambda1'] != lambda1) | (df['ml'] != ml)]\n",
    "    \n",
    "#save the dataframe to data/critical_points.csv\n",
    "df.to_csv(\"data/critical_points.csv\", index=False)\n",
    "\n",
    "#save the dataframe to data/critical_points.csv\n",
    "\n",
    "\"DO NOT EDIT ANYTHING BELOW HERE!\"\n",
    "# Define the template for your PBS script\n",
    "pbs_template = \"\"\"\n",
    "#!/bin/bash\n",
    "#PBS -S /bin/bash\n",
    "#PBS -N crit_pt_mq_{ml}_lambda_{lambda1} \n",
    "#PBS -j oe\n",
    "#PBS -o ./python_job_{ml}_{lambda1}.out\n",
    "#PBS -l nodes=1:ppn=20\n",
    "#PBS -l walltime=01:00:00\n",
    "#PBS -M sean.bartz@indstate.edu\n",
    "#PBS -m a\n",
    "cd $PBS_O_WORKDIR\n",
    "source my_env/bin/activate\n",
    "python3 critical_point_runner.py {lambda1} {a0} {ml} {tmin} {tmax} {numtemp} {minsigma} {maxsigma} {mu_initial} {delta_mu} {mu_precision}\n",
    "\"\"\"\n",
    "\n",
    "# Fill in the template with your parameters\n",
    "pbs_script = pbs_template.format(lambda1=lambda1, a0=a0, ml=ml, tmin=tmin, tmax=tmax, numtemp=numtemp, minsigma=minsigma, maxsigma=maxsigma, mu_initial=mu_initial, delta_mu=delta_mu, mu_precision=mu_precision)\n",
    "\n",
    "# Define the filename with your parameters\n",
    "filename = f\"crit_pt_search_mq_{ml}_lambda_{lambda1}.sh\"\n",
    "\n",
    "# Write the script to a new file\n",
    "with open(filename, 'w') as f:\n",
    "    f.write(pbs_script)\n"
   ]
  },
  {
   "cell_type": "markdown",
   "id": "b640b220",
   "metadata": {},
   "source": [
    "# Submit to the queue to execute on Obsidian\n",
    "Make sure you only run this once, or you will submit the same job multiple times!"
   ]
  },
  {
   "cell_type": "code",
   "execution_count": 110,
   "id": "976f0dcb",
   "metadata": {},
   "outputs": [
    {
     "data": {
      "text/plain": [
       "CompletedProcess(args=['qsub', 'crit_pt_search_mq_3_lambda_2.5.sh'], returncode=0)"
      ]
     },
     "execution_count": 110,
     "metadata": {},
     "output_type": "execute_result"
    }
   ],
   "source": [
    "# Submit the job script to qsub\n",
    "subprocess.run([\"qsub\", filename])"
   ]
  },
  {
   "cell_type": "markdown",
   "id": "041948b4",
   "metadata": {},
   "source": [
    "# Check on the status of currently running jobs"
   ]
  },
  {
   "cell_type": "code",
   "execution_count": 111,
   "id": "2c6f2775",
   "metadata": {},
   "outputs": [
    {
     "name": "stdout",
     "output_type": "stream",
     "text": [
      "Job ID                    Name             User            Time Use S Queue\r\n",
      "------------------------- ---------------- --------------- -------- - -----\r\n",
      "6538.obsidian              mrg8Fa.hhg       gzhang          27253:51 R batch          \r\n",
      "6633.obsidian              0.5ev.ni1.RC     gzhang          8274:29: R batch          \r\n",
      "6643.obsidian              permalloyO8      gzhang          7331:47: R batch          \r\n",
      "6669.obsidian              ni1.RC.1.0       gzhang          4541:44: R batch          \r\n",
      "6920.obsidian              fccnioptics1     gzhang          73:07:34 R batch          \r\n",
      "7042.obsidian              delay4.0c        gzhang          28:02:03 R batch          \r\n",
      "7069.obsidian              Laserbeam        yxue            00:06:23 R batch          \r\n",
      "7073.obsidian              ..._3_lambda_2.5 sbartz1                0 R batch          \r\n"
     ]
    }
   ],
   "source": [
    "!qstat"
   ]
  },
  {
   "cell_type": "code",
   "execution_count": 66,
   "id": "2f84ca2f",
   "metadata": {},
   "outputs": [],
   "source": [
    "import numpy as np\n",
    "import pandas as pd\n",
    "# Define parameters\n",
    "a0=0\n",
    "ml=9\n",
    "tmin=80\n",
    "tmax=110\n",
    "numtemp=25\n",
    "minsigma=0\n",
    "maxsigma=200\n",
    "mu_initial=0\n",
    "delta_mu=64\n",
    "mu_precision=1\n",
    "\n",
    "# create an array of lambda1 values from lambda1_min to lambda1_max\n",
    "lambda1_min=5.5310\n",
    "lambda1_max=5.5320\n",
    "step_size = 0.00010\n",
    "lambda1_values=np.arange(lambda1_min,lambda1_max,step_size)\n",
    "#lambda1_values = np.linspace(lambda1_min, lambda1_max, num_lambda)\n",
    "\n",
    "# read in data/critical_points.csv as a pandas dataframe\n",
    "df = pd.read_csv(\"data/critical_points.csv\")\n",
    "#if the ml and lambda1 values are already in the dataframe, remove that row\n",
    "for lambda1 in lambda1_values:\n",
    "    df = df[(df['lambda1'] != lambda1) | (df['ml'] != ml)]\n",
    "    \n",
    "#save the dataframe to data/critical_points.csv\n",
    "df.to_csv(\"data/critical_points.csv\", index=False)\n",
    "\n",
    "\n",
    "#save the dataframe to data/critical_points.csv\n",
    "df.to_csv(\"data/critical_points.csv\", index=False)\n",
    "\n",
    "#loop through the lambda1 values and create a pbs script for each\n",
    "for lambda1 in lambda1_values:\n",
    "    \n",
    "    \n",
    "        \"DO NOT EDIT ANYTHING BELOW HERE!\"\n",
    "        # Define the template for your PBS script\n",
    "        pbs_template = \"\"\"\n",
    "        #!/bin/bash\n",
    "        #PBS -S /bin/bash\n",
    "        #PBS -N crit_pt_mq_{ml}_lambda_{lambda1} \n",
    "        #PBS -j oe\n",
    "        #PBS -o ./python_job_{ml}_{lambda1}.out\n",
    "        #PBS -l nodes=1:ppn=20\n",
    "        #PBS -l walltime=01:00:00\n",
    "        #PBS -M sean.bartz@indstate.edu\n",
    "        #PBS -m a\n",
    "        cd $PBS_O_WORKDIR\n",
    "        source my_env/bin/activate\n",
    "        python3 critical_point_runner.py {lambda1} {a0} {ml} {tmin} {tmax} {numtemp} {minsigma} {maxsigma} {mu_initial} {delta_mu} {mu_precision}\n",
    "        \"\"\"\n",
    "\n",
    "        # Fill in the template with your parameters\n",
    "        pbs_script = pbs_template.format(lambda1=lambda1, a0=a0, ml=ml, tmin=tmin, tmax=tmax, numtemp=numtemp, minsigma=minsigma, maxsigma=maxsigma, mu_initial=mu_initial, delta_mu=delta_mu, mu_precision=mu_precision)\n",
    "\n",
    "        # Define the filename with your parameters\n",
    "        filename = f\"crit_pt_search_mq_{ml}_lambda_{lambda1}.sh\"\n",
    "\n",
    "        # Write the script to a new file\n",
    "        with open(filename, 'w') as f:\n",
    "                f.write(pbs_script)\n",
    "\n",
    "        # Submit the job script to qsub\n",
    "        subprocess.run([\"qsub\", filename])\n",
    "        \n",
    "        \n"
   ]
  },
  {
   "cell_type": "code",
   "execution_count": 41,
   "id": "b2ff19be",
   "metadata": {},
   "outputs": [],
   "source": []
  },
  {
   "cell_type": "code",
   "execution_count": 65,
   "id": "e8ef6c60",
   "metadata": {},
   "outputs": [
    {
     "data": {
      "text/plain": [
       "array([2. , 2.1, 2.2, 2.3, 2.4, 2.5, 2.6, 2.7, 2.8, 2.9])"
      ]
     },
     "execution_count": 65,
     "metadata": {},
     "output_type": "execute_result"
    }
   ],
   "source": [
    "lambda1_values"
   ]
  },
  {
   "cell_type": "markdown",
   "id": "9c32c12b",
   "metadata": {},
   "source": []
  },
  {
   "cell_type": "markdown",
   "id": "30b803f8",
   "metadata": {},
   "source": []
  },
  {
   "cell_type": "code",
   "execution_count": null,
   "id": "5b20c1a4",
   "metadata": {},
   "outputs": [],
   "source": []
  },
  {
   "cell_type": "code",
   "execution_count": null,
   "id": "88de5f0e",
   "metadata": {},
   "outputs": [],
   "source": []
  },
  {
   "cell_type": "code",
   "execution_count": null,
   "id": "dcca6889",
   "metadata": {},
   "outputs": [],
   "source": []
  }
 ],
 "metadata": {
  "kernelspec": {
   "display_name": "Python 3",
   "language": "python",
   "name": "python3"
  },
  "language_info": {
   "codemirror_mode": {
    "name": "ipython",
    "version": 3
   },
   "file_extension": ".py",
   "mimetype": "text/x-python",
   "name": "python",
   "nbconvert_exporter": "python",
   "pygments_lexer": "ipython3",
   "version": "3.6.8"
  }
 },
 "nbformat": 4,
 "nbformat_minor": 5
}
