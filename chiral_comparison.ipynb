{
 "cells": [
  {
   "cell_type": "code",
   "execution_count": 1,
   "metadata": {},
   "outputs": [],
   "source": [
    "import numpy as np\n",
    "from threeflavorALLvalues import allSigmas, chiral\n",
    "from scipy.integrate import odeint\n",
    "from solveTmu import blackness\n",
    "\n",
    "import matplotlib.pyplot as plt\n",
    "\n",
    "\n"
   ]
  },
  {
   "cell_type": "code",
   "execution_count": 2,
   "metadata": {},
   "outputs": [],
   "source": [
    "T=120\n",
    "mu=0\n",
    "ml=0.47560557155787747\n",
    "minsigma=0\n",
    "maxsigma=300\n",
    "a0=0\n",
    "lambda1=7\n",
    "\n",
    "args=(T,mu,ml,minsigma,maxsigma,a0,lambda1)\n",
    "sigmas=allSigmas(args)"
   ]
  },
  {
   "cell_type": "code",
   "execution_count": 3,
   "metadata": {},
   "outputs": [
    {
     "data": {
      "text/plain": [
       "array([ 45., 112., 261.])"
      ]
     },
     "execution_count": 3,
     "metadata": {},
     "output_type": "execute_result"
    }
   ],
   "source": [
    "sigmas"
   ]
  },
  {
   "cell_type": "code",
   "execution_count": 5,
   "metadata": {},
   "outputs": [
    {
     "name": "stdout",
     "output_type": "stream",
     "text": [
      "d0 is 0.0909264945110821\n"
     ]
    },
    {
     "data": {
      "image/png": "[encoded data removed]",
      "text/plain": [
       "<Figure size 432x288 with 1 Axes>"
      ]
     },
     "metadata": {
      "needs_background": "light"
     },
     "output_type": "display_data"
    }
   ],
   "source": [
    "v4=4.2\n",
    "v3= -22.6/(6*np.sqrt(2))\n",
    "\n",
    "mu_g=440\n",
    "a0=0\n",
    "zh,q = blackness(T,mu)\n",
    "\n",
    "zeta=np.sqrt(3)/(2*np.pi)\n",
    "\n",
    "ui=1e-4\n",
    "uf=1-ui\n",
    "u=np.linspace(ui,uf,1000)\n",
    "params=v3,v4,lambda1,mu_g,a0,zh,q\n",
    "\n",
    "sl=105.3\n",
    "\n",
    "s2=-3*(ml*zeta)**2*v3\n",
    "s3=-9*(zeta*ml)**3*v3**2 + 2*(zeta*ml)**3*v4 + ml*zeta*mu_g**2 - 1/2*ml*zeta*lambda1*mu_g**2\n",
    "\n",
    "#use this line if deltasig is an integer\n",
    "# for sl in range (minsigma,maxsigma,deltasig):\n",
    "\n",
    "#use these next two lines if deltasig is not an integer\n",
    "\n",
    "\"values for chiral field and derivative at UV boundary\"\n",
    "sigmal = sl**3\n",
    "UVbound = [ml*zeta*zh*ui + sigmal/zeta*(zh*ui)**3+s2*(zh*ui)**2+s3*(zh*ui)**3*np.log(zh*ui), \n",
    "            ml*zeta*zh + 3*sigmal/zeta*zh**3*ui**2 + 2*s2*zh**2*ui + s3* ui**2*zh**3*(1+3*np.log(zh*ui))]\n",
    "    \n",
    "\"solve for the chiral field\"\n",
    "chiFields=odeint(chiral,UVbound,u,args=(params,))\n",
    "\n",
    "chi=chiFields[:,0]\n",
    "chiPrime=chiFields[:,1]\n",
    "print(\"d0 is\", chi[-1])\n",
    "plt.loglog(u,chi)\n",
    "plt.loglog(u, ml*zeta*zh*u+sigmal/zeta*(zh*u)**3)\n",
    "plt.show()\n"
   ]
  },
  {
   "cell_type": "code",
   "execution_count": null,
   "metadata": {},
   "outputs": [],
   "source": []
  }
 ],
 "metadata": {
  "kernelspec": {
   "display_name": "base",
   "language": "python",
   "name": "python3"
  },
  "language_info": {
   "codemirror_mode": {
    "name": "ipython",
    "version": 3
   },
   "file_extension": ".py",
   "mimetype": "text/x-python",
   "name": "python",
   "nbconvert_exporter": "python",
   "pygments_lexer": "ipython3",
   "version": "3.7.6"
  },
  "orig_nbformat": 4
 },
 "nbformat": 4,
 "nbformat_minor": 2
}
