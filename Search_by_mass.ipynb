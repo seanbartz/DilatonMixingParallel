{
 "cells": [
  {
   "cell_type": "code",
   "execution_count": 1,
   "metadata": {},
   "outputs": [],
   "source": [
    "import numpy as np\n",
    "from threeflavorALLvalues import allSigmas\n",
    "from scipy.integrate import odeint\n",
    "from solveTmu import blackness\n",
    "from scipy.interpolate import interp1d\n",
    "from scipy.integrate import solve_ivp\n",
    "from scipy.optimize import brentq, fsolve\n",
    "\n",
    "from joblib import Parallel, delayed\n",
    "\n",
    "import matplotlib.pyplot as plt\n"
   ]
  },
  {
   "cell_type": "code",
   "execution_count": 2,
   "metadata": {},
   "outputs": [],
   "source": [
    "\"Matching Fang paper\"\n",
    "v4=4.2\n",
    "v3= 0#-1e-6 #-22.6/(6*np.sqrt(2))\n",
    "\n",
    "def chiral(u,y,params):\n",
    "    chi,chip=y\n",
    "    v3,v4,lambda1,mu_g,a0,zh,q=params\n",
    "    \n",
    "    Q=q*zh**3\n",
    "    \n",
    "    \n",
    "    \"Ballon-Bayona version\"\n",
    "    phi = (mu_g*zh*u)**2-a0*(mu_g*zh*u)**3/(1+(mu_g*zh*u)**4)\n",
    "    phip = 2*u*(zh*mu_g)**2+a0*(4*u**6*(zh*mu_g)**7/(1+(u*zh*mu_g)**4)**2-3*u**2*(zh*mu_g)**3/(1+(u*zh*mu_g)**4))\n",
    "\n",
    "    f= 1 - (1+Q**2)*u**4 + Q**2*u**6\n",
    "    fp= -4*(1+Q**2)*u**3 + 6*Q**2*u**5\n",
    "    \"EOM for chiral field\"\n",
    "    derivs=[chip,\n",
    "            (3/u-fp/f+phip)*chip - (3*chi+lambda1*phi*chi-3*v3*chi**2-4*v4*chi**3)/(u**2*f)]\n",
    "            #((3+u**4)/(u-u**5) +phip)*chip - (-3*chi+4*v4*chi**3)/(u**2-u**6) ]\n",
    "            \n",
    "    return derivs\n",
    "\n",
    "def chiral_solve_IR(d0,lambda1,T,mu,ui,uf):\n",
    "    numpoints=10000\n",
    "    u=np.linspace(ui,uf,numpoints)\n",
    "    u_backward=np.linspace(uf,ui,numpoints)\n",
    "\n",
    "\n",
    "    zeta=np.sqrt(3)/(2*np.pi)\n",
    "\n",
    "    mu_g=440\n",
    "    a0=0\n",
    "\n",
    "    lambda3=v3\n",
    "    lambda4=v4\n",
    "\n",
    "\n",
    "    zh,q = blackness(T,mu)\n",
    "    Q=q*zh**3\n",
    "    \n",
    "    #defining constants for Taylor expansion at horizon u=1\n",
    "\n",
    "    d1 = (3 * d0 - 3 * d0**2 * lambda3 - 4 * d0**3 * lambda4 + d0 * zh**2 * lambda1 * mu_g**2) / (2 * (-2 + Q**2))\n",
    "\n",
    "    d2 = (1 / (16 * (-2 + Q**2)**2)) * (6 * d1 * (-6 + Q**2 + Q**4) +\n",
    "    4 * d0**3 * (14 - 13 * Q**2) * lambda4 + d0**2 * ((42 - 39 * Q**2) * lambda3 - 24 * d1 * (-2 + Q**2) * lambda4) -\n",
    "    2 * d1 * (-2 + Q**2) * zh**2 * (-8 + 4 * Q**2 - lambda1) * mu_g**2 +\n",
    "    3 * d0 * (-14 + 13 * Q**2 + 8 * d1 * lambda3 - 4 * d1 * Q**2 * lambda3 + (-2 + 3 * Q**2) * zh**2 * lambda1 * mu_g**2))\n",
    "    \n",
    "\n",
    "    \"IR boundary condition\"\n",
    "    chi0 = d0+d1*(1-uf)+d2*(1-uf)**2\n",
    "    chip0 = -d1-2*d2*(1-uf)\n",
    "    y0=[chi0,chip0]\n",
    "\n",
    "\n",
    "\n",
    "\n",
    "    params=v3,v4,lambda1,mu_g,a0,zh,q\n",
    "    \n",
    "    \"solve the EOM using solve_ivp\"\n",
    "    sol = solve_ivp(chiral, [uf, ui], y0, t_eval=u_backward, args=(params,))\n",
    "\n",
    "    #sol=odeint(chiral,y0,u,args=(params,))\n",
    "    #plot\n",
    "    chi=sol.y[0][::-1]\n",
    "    chip=sol.y[1][::-1]\n",
    " \n",
    "    x=zeta*zh*ui\n",
    "    #first-order approximation\n",
    "    if v3==0:\n",
    "        mq1=chi[0]/(zeta*zh*ui)\n",
    "    else:\n",
    "        #second-order approximation\n",
    "       mq1=(x-x*np.sqrt(1-12*v3*chi[0]))/(6*x**2*v3)\n",
    "\n",
    "\n",
    "    return mq1,chi,chip,u\n",
    "\n",
    "def sigma_finder(u_intermediate,chi,u,mq,T,mu,zeta,lambda3):\n",
    "    zh,q = blackness(T,mu)\n",
    "\n",
    "    \"find sigma\"\n",
    "    chi_interp=interp1d(u,chi)\n",
    "    sigma=(chi_interp(u_intermediate)-mq*zeta*zh*u_intermediate+3*mq**2*zeta**2*lambda3*(zh*u_intermediate)**2)/(u_intermediate*zh)**3*zeta\n",
    "    return sigma\n",
    "\n",
    "\n",
    "def chiral_solve_IR_parallel(d0_array, lambda1, T, mu, ui, uf, n_jobs=-1):\n",
    "    results = Parallel(n_jobs=n_jobs)(\n",
    "        delayed(chiral_solve_IR)(d0, lambda1, T, mu, ui, uf) for d0 in d0_array\n",
    "    )\n",
    "    # Unpack the results\n",
    "    mq_array, chi_array, chip_array, u_array = zip(*results)\n",
    "    \n",
    "    return np.array(mq_array), np.array(chi_array), np.array(chip_array)"
   ]
  },
  {
   "cell_type": "code",
   "execution_count": 44,
   "metadata": {},
   "outputs": [
    {
     "name": "stderr",
     "output_type": "stream",
     "text": [
      "/var/folders/p2/x0t9bzsx00jdh9552ryvxndm0000gp/T/ipykernel_5449/3018266031.py:98: VisibleDeprecationWarning: Creating an ndarray from ragged nested sequences (which is a list-or-tuple of lists-or-tuples-or ndarrays with different lengths or shapes) is deprecated. If you meant to do this, you must specify 'dtype=object' when creating the ndarray.\n",
      "  return np.array(mq_array), np.array(chi_array), np.array(chip_array)\n"
     ]
    }
   ],
   "source": [
    "#run this to get the initial range of mq vs d0\n",
    "#mq target should be 50 MeV or some large number\n",
    "def initial_d0_mq(T,mu,mq_target,lambda1,ui,uf,d0_array):\n",
    "    \n",
    "#     d0_array=np.linspace(d0_lower,d0_upper,100)\n",
    "    mq_array=chiral_solve_IR_parallel(d0_array, lambda1, T, mu, ui, uf, n_jobs=-1)[0]\n",
    "\n",
    "    max_d0=d0_upper\n",
    "    # find the indices where abs(mq_array)>150, and remove those indices from d0_array and mq_array\n",
    "    indices=np.where(np.abs(mq_array)>150)\n",
    "    # we don't need to go higher than the lowest d0 value that gives garbage results\n",
    "    # if indices is not an empty array\n",
    "    if len(indices[0])>0:\n",
    "        max_d0=d0_array[indices[0]]\n",
    "    if len(indices[0])>1:\n",
    "        max_d0=max_d0[0]\n",
    "\n",
    "    d0_array=np.delete(d0_array,indices)\n",
    "    mq_array=np.delete(mq_array,indices)\n",
    "#     mq1_array=np.delete(mq1_array,indices)\n",
    "    \n",
    "    iterations=0\n",
    "    step_size=d0_array[1]-d0_array[0]\n",
    "    while mq_array[-1]<mq_target and iterations<20:\n",
    "    #while max(mq_array)<mq_target and iterations<12:\n",
    "\n",
    "        #create a new d0_array starting above the maximum value of d0_array, with a spacing that is 1/10 of the spacing of the previous d0_array\n",
    "        step_size=step_size/100\n",
    "        d0_new=np.arange(max(d0_array),min(max(d0_array)+(d0_array[-1]-d0_array[0])/20,max_d0),step_size)\n",
    "\n",
    "        # d0_new=np.arange(max(d0_array),min(max(d0_array)+(d0_array[-1]-d0_array[0])/10,max_d0),((d0_array[1]-d0_array[0])/100))\n",
    "        # d0_new=np.arange(max(d0_array),min(max(d0_array)+(d0_array[-1]-d0_array[0])/10,max_d0),step_size)\n",
    "        d0_array=np.concatenate((d0_array,d0_new))\n",
    "        #calculate the mq_array for the new d0_array\n",
    "        mq_new=chiral_solve_IR_parallel(d0_new, lambda1, T, mu, ui, uf, n_jobs=-1)[0]\n",
    "        #add the new mq_array to the old mq_array\n",
    "        mq_array=np.concatenate((mq_array,mq_new))\n",
    "#         mq1_array=np.concatenate((mq1_array,mq1_new))\n",
    "\n",
    "        \n",
    "        indices=np.where(np.abs(mq_array)>150)\n",
    "        # we don't need to go higher than the lowest d0 value that gives garbage results\n",
    "        # if indices is not an empty array\n",
    "        if len(indices[0])>0:\n",
    "            max_d0=d0_array[indices[0]]\n",
    "        if len(indices[0])>1:\n",
    "            max_d0=max_d0[0]    \n",
    "        d0_array=np.delete(d0_array,indices)\n",
    "        mq_array=np.delete(mq_array,indices)\n",
    "#         mq1_array=np.delete(mq1_array,indices)\n",
    "\n",
    "        # print(max_d0)\n",
    "        old_max_d0=max_d0\n",
    "        iterations=iterations+1\n",
    "    # print('iterations',iterations)\n",
    "    return d0_array,mq_array\n",
    "\n",
    "# finding a range of d0 values that will cover quark masses in a range from 0 to approximately mq_large\n",
    "T=1\n",
    "mu=0\n",
    "mq_large=10\n",
    "lambda1=6.5\n",
    "ui=1e-4\n",
    "uf=1-ui\n",
    "numpoints=100\n",
    "d0_lower=80\n",
    "d0_upper=87.12\n",
    "d0_array=np.linspace(d0_lower,d0_upper,numpoints)\n",
    "d0_array, mq_array = initial_d0_mq(T, mu, mq_large, lambda1, ui, uf, d0_array)\n",
    "\n",
    "d0_old=d0_array\n",
    "d0_min=d0_array[np.abs(mq_array)>1e-3][0]\n",
    "mq_array=mq_array[d0_array>d0_min]\n",
    "d0_array=d0_array[d0_array>d0_min]\n",
    "# it seems that the first two points are identical, so remove one\n",
    "d0_array=d0_array[1:]\n",
    "mq_array=mq_array[1:]\n",
    "\"This works, but makes WAY too many points\"\n",
    "# smallest_diff=np.min(np.gradient(d0_array))\n",
    "\n",
    "# d0_array=np.arange(d0_array[0],d0_array[-1]+smallest_diff,smallest_diff)\n",
    "\n",
    "# d0_array, mq_array = initial_d0_mq(T, mu, mq_large, lambda1, ui, uf, d0_array)\n",
    "\n",
    "# solving from IR again to retain the function chi and its derivative chip for each value of d0\n",
    "_,chis,chips=chiral_solve_IR_parallel(d0_array, lambda1, T, mu, ui, uf, n_jobs=-1)\n",
    "\n",
    "#picking the value of u_int. There are 1000 points in u, so i ~ 1000*u_int\n",
    "i=10\n",
    "u=np.linspace(ui,uf,len(chips[0]))\n",
    "u_int=u[i]\n",
    "chi0=chis[:,i]\n",
    "chip0=chips[:,i]\n",
    "\n",
    "#solving for mq and sigma\n",
    "lambda3=v3\n",
    "zeta=np.sqrt(3)/(2*np.pi)\n",
    "zh,q=blackness(T,mu)\n",
    "# if lambda3 is nonzero, calculate mq and sigma using the improved formula\n",
    "# if lambda3 is zero, calculate mq and sigma using the round formula\n",
    "if lambda3==0:\n",
    "    sigma_improved=zeta*(chip0*u_int-chi0)/(2*u_int**3*zh**3)\n",
    "    mq_improved=mq_array#chi0/(zeta*zh*u_int)\n",
    "else:\n",
    "    mq_improved=(1-np.sqrt(1-3*lambda3*(3*chi0-chip0*u_int)))/(3*lambda3*zeta*u_int*zh)\n",
    "    sigma_improved=zeta*(1-6*chi0*lambda3+3*chip0*u_int*lambda3-np.sqrt(1-3*lambda3*(3*chi0-chip0*u_int)))/(3*u_int**3*zh**3*lambda3)\n",
    "\n"
   ]
  },
  {
   "cell_type": "code",
   "execution_count": 4,
   "metadata": {},
   "outputs": [
    {
     "data": {
      "image/png": "[encoded data removed]",
      "text/plain": [
       "<Figure size 640x480 with 1 Axes>"
      ]
     },
     "metadata": {},
     "output_type": "display_data"
    }
   ],
   "source": [
    "plt.scatter(mq_improved,sigma_improved/1e9)#,label=\"$u_{int}= $\"+str(round(u[i]*1000)/1000))\n",
    "# plt.plot(mq_array_1,sigma_1/1e9)\n",
    "plt.xlabel(\"$m_q$ (MeV)\")\n",
    "plt.ylabel(\"$\\sigma$ (GeV$^3$)\")\n",
    "plt.xlim(-6,10)\n",
    "plt.ylim(0,0.004)\n",
    "plt.title(\"T=\"+str(T)+\"MeV, $\\mu=$\"+str(mu)+\" MeV\")\n",
    "plt.show()"
   ]
  },
  {
   "cell_type": "code",
   "execution_count": 10,
   "metadata": {},
   "outputs": [
    {
     "data": {
      "image/png": "[encoded data removed]",
      "text/plain": [
       "<Figure size 640x480 with 1 Axes>"
      ]
     },
     "metadata": {},
     "output_type": "display_data"
    }
   ],
   "source": [
    "plt.scatter(d0_array,mq_improved)  \n",
    "plt.xlabel(\"$d_0$\")\n",
    "plt.ylabel(\"$m_q$ (MeV)\")\n",
    "plt.title(\"T=\"+str(T)+\"MeV, $\\mu=$\"+str(mu)+\" MeV\")\n",
    "plt.ylim(-3,3)\n",
    "plt.show()"
   ]
  },
  {
   "cell_type": "code",
   "execution_count": 34,
   "metadata": {},
   "outputs": [],
   "source": [
    "# create an array of quark mass values from the minimum of mq_array to 20 with 100 points\n",
    "mq_array=np.linspace(np.min(mq_improved),20,1000)\n"
   ]
  },
  {
   "cell_type": "code",
   "execution_count": 67,
   "metadata": {},
   "outputs": [
    {
     "ename": "ValueError",
     "evalue": "diff requires input that is at least one dimensional",
     "output_type": "error",
     "traceback": [
      "\u001b[0;31m---------------------------------------------------------------------------\u001b[0m",
      "\u001b[0;31mValueError\u001b[0m                                Traceback (most recent call last)",
      "\u001b[1;32mUntitled-1.ipynb Cell 7\u001b[0m in \u001b[0;36m<cell line: 4>\u001b[0;34m()\u001b[0m\n\u001b[1;32m      <a href='vscode-notebook-cell:Untitled-1.ipynb?jupyter-notebook#X14sdW50aXRsZWQ%3D?line=0'>1</a>\u001b[0m mq_target\u001b[39m=\u001b[39m\u001b[39m-\u001b[39m\u001b[39m2\u001b[39m\n\u001b[1;32m      <a href='vscode-notebook-cell:Untitled-1.ipynb?jupyter-notebook#X14sdW50aXRsZWQ%3D?line=2'>3</a>\u001b[0m \u001b[39m#find the indices where mq_array-mq_target changes sign\u001b[39;00m\n\u001b[0;32m----> <a href='vscode-notebook-cell:Untitled-1.ipynb?jupyter-notebook#X14sdW50aXRsZWQ%3D?line=3'>4</a>\u001b[0m indices\u001b[39m=\u001b[39mnp\u001b[39m.\u001b[39mwhere(np\u001b[39m.\u001b[39;49mdiff(np\u001b[39m.\u001b[39;49msign(mq_improved\u001b[39m-\u001b[39;49mmq_target)))[\u001b[39m0\u001b[39m]\n\u001b[1;32m      <a href='vscode-notebook-cell:Untitled-1.ipynb?jupyter-notebook#X14sdW50aXRsZWQ%3D?line=4'>5</a>\u001b[0m \u001b[39m# loop over the indices\u001b[39;00m\n\u001b[1;32m      <a href='vscode-notebook-cell:Untitled-1.ipynb?jupyter-notebook#X14sdW50aXRsZWQ%3D?line=5'>6</a>\u001b[0m \u001b[39mfor\u001b[39;00m index \u001b[39min\u001b[39;00m indices:\n\u001b[1;32m      <a href='vscode-notebook-cell:Untitled-1.ipynb?jupyter-notebook#X14sdW50aXRsZWQ%3D?line=6'>7</a>\u001b[0m     \u001b[39m#create an array consisting of mq_improved[index] and mq_improved[index+1]\u001b[39;00m\n",
      "File \u001b[0;32m<__array_function__ internals>:5\u001b[0m, in \u001b[0;36mdiff\u001b[0;34m(*args, **kwargs)\u001b[0m\n",
      "File \u001b[0;32m~/opt/anaconda3/lib/python3.9/site-packages/numpy/lib/function_base.py:1258\u001b[0m, in \u001b[0;36mdiff\u001b[0;34m(a, n, axis, prepend, append)\u001b[0m\n\u001b[1;32m   1256\u001b[0m nd \u001b[39m=\u001b[39m a\u001b[39m.\u001b[39mndim\n\u001b[1;32m   1257\u001b[0m \u001b[39mif\u001b[39;00m nd \u001b[39m==\u001b[39m \u001b[39m0\u001b[39m:\n\u001b[0;32m-> 1258\u001b[0m     \u001b[39mraise\u001b[39;00m \u001b[39mValueError\u001b[39;00m(\u001b[39m\"\u001b[39m\u001b[39mdiff requires input that is at least one dimensional\u001b[39m\u001b[39m\"\u001b[39m)\n\u001b[1;32m   1259\u001b[0m axis \u001b[39m=\u001b[39m normalize_axis_index(axis, nd)\n\u001b[1;32m   1261\u001b[0m combined \u001b[39m=\u001b[39m []\n",
      "\u001b[0;31mValueError\u001b[0m: diff requires input that is at least one dimensional"
     ]
    }
   ],
   "source": [
    "mq_target=-2\n",
    "\n",
    "#find the indices where mq_array-mq_target changes sign\n",
    "indices=np.where(np.diff(np.sign(mq_improved-mq_target)))[0]\n",
    "# loop over the indices\n",
    "for index in indices:\n",
    "    #create an array consisting of mq_improved[index] and mq_improved[index+1]\n",
    "    mq_approx=np.array([mq_improved[index],mq_improved[index+1]])\n",
    "    #create an array of d0 values consisting of d0_array[index] and d0_array[index+1]\n",
    "    d0_approx=np.array([d0_array[index],d0_array[index+1]])\n",
    "    #create an interpolation function for d0_approx vs mq_approx\n",
    "    d0_interp=interp1d(mq_approx,d0_approx)\n",
    "    #find the d0 value that corresponds to mq_target\n",
    "    d0=d0_interp(mq_target)\n",
    "    #solve for chi and chip using the EOM\n",
    "    mq,chi,chip,u=chiral_solve_IR(d0,lambda1,T,mu,ui,uf)\n",
    "    print(mq)\n",
    "    #picking the value of u_int. There are 1000 points in u, so i ~ 1000*u_int\n",
    "    i=10\n",
    "    u=np.linspace(ui,uf,len(chip))\n",
    "    u_int=u[i]\n",
    "    chi0=chi[i]\n",
    "    chip0=chip[i]\n",
    "\n",
    "    #solving for mq and sigma\n",
    "    lambda3=v3\n",
    "    zeta=np.sqrt(3)/(2*np.pi)\n",
    "    zh,q=blackness(T,mu)\n",
    "    # if lambda3 is nonzero, calculate mq and sigma using the improved formula\n",
    "    # if lambda3 is zero, calculate mq and sigma using the round formula\n",
    "    if lambda3==0:\n",
    "        sigma_improved=zeta*(chip0*u_int-chi0)/(2*u_int**3*zh**3)\n",
    "        mq_improved=chi0/(zeta*zh*u_int)\n",
    "    else:\n",
    "        mq_improved=(1-np.sqrt(1-3*lambda3*(3*chi0-chip0*u_int)))/(3*lambda3*zeta*u_int*zh)\n",
    "        sigma_improved=zeta*(1-6*chi0*lambda3+3*chip0*u_int*lambda3-np.sqrt(1-3*lambda3*(3*chi0-chip0*u_int)))/(3*u_int**3*zh**3*lambda3)\n",
    "    print(\"d0=\",d0)\n",
    "    print(\"mq=\",mq_improved)\n",
    "    print(\"sigma=\",sigma_improved)"
   ]
  },
  {
   "cell_type": "code",
   "execution_count": 63,
   "metadata": {},
   "outputs": [
    {
     "data": {
      "text/plain": [
       "0.00012359795971807267"
      ]
     },
     "execution_count": 63,
     "metadata": {},
     "output_type": "execute_result"
    }
   ],
   "source": [
    "chi[i]"
   ]
  },
  {
   "cell_type": "code",
   "execution_count": 60,
   "metadata": {},
   "outputs": [
    {
     "data": {
      "image/png": "[encoded data removed]",
      "text/plain": [
       "<Figure size 640x480 with 1 Axes>"
      ]
     },
     "metadata": {},
     "output_type": "display_data"
    }
   ],
   "source": [
    "plt.plot(u,chi)\n",
    "plt.show()"
   ]
  },
  {
   "cell_type": "code",
   "execution_count": 52,
   "metadata": {},
   "outputs": [],
   "source": [
    "#create an array of with 18 elements starting at 12 and incrementing by 0.5\n"
   ]
  },
  {
   "cell_type": "code",
   "execution_count": 31,
   "metadata": {},
   "outputs": [
    {
     "name": "stdout",
     "output_type": "stream",
     "text": [
      "[-1.52215958 -1.76098129 -2.15199199 -2.95002342 -5.05469913 -5.05469913\n",
      " -5.01348492 -4.95901815 -4.8818237  -4.78985231 -4.65845983 -4.48899921\n",
      " -4.31845948 -4.02799046 -3.66645419 -3.27091559 -2.71185668 -1.92384053]\n"
     ]
    }
   ],
   "source": [
    "print(mq_improved[199:217])"
   ]
  },
  {
   "cell_type": "code",
   "execution_count": 37,
   "metadata": {},
   "outputs": [
    {
     "data": {
      "text/plain": [
       "array([-1.76098129, -2.71185668])"
      ]
     },
     "execution_count": 37,
     "metadata": {},
     "output_type": "execute_result"
    }
   ],
   "source": [
    "#create an interpolating function for mq_improved vs d0_array\n",
    "mq_interp=interp1d(d0_array,mq_improved)\n",
    "\n",
    "mq_interp(d0_change)"
   ]
  },
  {
   "cell_type": "code",
   "execution_count": 47,
   "metadata": {},
   "outputs": [
    {
     "data": {
      "text/plain": [
       "array(87.11487801)"
      ]
     },
     "execution_count": 47,
     "metadata": {},
     "output_type": "execute_result"
    }
   ],
   "source": [
    "d0_interp=interp1d(mq_improved,d0_array)\n",
    "d0_interp(2)"
   ]
  },
  {
   "cell_type": "code",
   "execution_count": null,
   "metadata": {},
   "outputs": [],
   "source": []
  }
 ],
 "metadata": {
  "kernelspec": {
   "display_name": "base",
   "language": "python",
   "name": "python3"
  },
  "language_info": {
   "codemirror_mode": {
    "name": "ipython",
    "version": 3
   },
   "file_extension": ".py",
   "mimetype": "text/x-python",
   "name": "python",
   "nbconvert_exporter": "python",
   "pygments_lexer": "ipython3",
   "version": "3.9.13"
  },
  "orig_nbformat": 4
 },
 "nbformat": 4,
 "nbformat_minor": 2
}
